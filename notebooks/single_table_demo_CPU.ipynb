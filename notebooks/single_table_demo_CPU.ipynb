{
 "cells": [
  {
   "cell_type": "code",
   "execution_count": 1,
   "metadata": {},
   "outputs": [
    {
     "ename": "",
     "evalue": "",
     "output_type": "error",
     "traceback": [
      "\u001b[1;31mCanceled future for execute_request message before replies were done"
     ]
    },
    {
     "ename": "",
     "evalue": "",
     "output_type": "error",
     "traceback": [
      "\u001b[1;31mThe Kernel crashed while executing code in the the current cell or a previous cell. Please review the code in the cell(s) to identify a possible cause of the failure. Click <a href='https://aka.ms/vscodeJupyterKernelCrash'>here</a> for more info. View Jupyter <a href='command:jupyter.viewOutput'>log</a> for further details."
     ]
    }
   ],
   "source": [
    "import os,sys,torch\n",
    "import pandas as pd"
   ]
  },
  {
   "cell_type": "code",
   "execution_count": 3,
   "metadata": {},
   "outputs": [],
   "source": [
    "from bulian.Tabular.synthesizers import TwinSynthesizer,PrivateTwinSynthesizer\n",
    "from bulian.metrics import *\n",
    "from bulian.metrics.reports import *\n",
    "from bulian.metrics import compute_metrics\n",
    "from bulian.metrics.single_table import SingleTableMetric\n",
    "from bulian.metrics.single_table import *"
   ]
  },
  {
   "cell_type": "code",
   "execution_count": 4,
   "metadata": {},
   "outputs": [],
   "source": [
    "import pandas as pd\n",
    "import warnings\n",
    "warnings.filterwarnings('ignore')"
   ]
  },
  {
   "cell_type": "code",
   "execution_count": 5,
   "metadata": {},
   "outputs": [],
   "source": [
    "discrete_columns = [\n",
    "    \"workclass\",\n",
    "    \"education\",\n",
    "    \"marital-status\",\n",
    "    \"occupation\",\n",
    "    \"relationship\",\n",
    "    \"race\",\n",
    "    \"sex\",\n",
    "    \"native-country\",\n",
    "    \"income\",\n",
    "]"
   ]
  },
  {
   "cell_type": "code",
   "execution_count": 6,
   "metadata": {},
   "outputs": [
    {
     "data": {
      "text/plain": [
       "'1.12.0'"
      ]
     },
     "execution_count": 6,
     "metadata": {},
     "output_type": "execute_result"
    }
   ],
   "source": [
    "import torch\n",
    "torch.__version__"
   ]
  },
  {
   "cell_type": "code",
   "execution_count": 7,
   "metadata": {},
   "outputs": [
    {
     "data": {
      "text/plain": [
       "True"
      ]
     },
     "execution_count": 7,
     "metadata": {},
     "output_type": "execute_result"
    }
   ],
   "source": [
    "torch.cuda.is_available()"
   ]
  },
  {
   "cell_type": "code",
   "execution_count": 8,
   "metadata": {},
   "outputs": [
    {
     "name": "stdout",
     "output_type": "stream",
     "text": [
      "Fri Jul 29 14:04:05 2022       \n",
      "+-----------------------------------------------------------------------------+\n",
      "| NVIDIA-SMI 511.79       Driver Version: 511.79       CUDA Version: 11.6     |\n",
      "|-------------------------------+----------------------+----------------------+\n",
      "| GPU  Name            TCC/WDDM | Bus-Id        Disp.A | Volatile Uncorr. ECC |\n",
      "| Fan  Temp  Perf  Pwr:Usage/Cap|         Memory-Usage | GPU-Util  Compute M. |\n",
      "|                               |                      |               MIG M. |\n",
      "|===============================+======================+======================|\n",
      "|   0  NVIDIA GeForce ... WDDM  | 00000000:01:00.0  On |                  N/A |\n",
      "|  0%   53C    P8    26W / 370W |    854MiB / 24576MiB |      9%      Default |\n",
      "|                               |                      |                  N/A |\n",
      "+-------------------------------+----------------------+----------------------+\n",
      "                                                                               \n",
      "+-----------------------------------------------------------------------------+\n",
      "| Processes:                                                                  |\n",
      "|  GPU   GI   CI        PID   Type   Process name                  GPU Memory |\n",
      "|        ID   ID                                                   Usage      |\n",
      "|=============================================================================|\n",
      "|    0   N/A  N/A      1128    C+G                                   N/A      |\n",
      "|    0   N/A  N/A      3736    C+G   ...5n1h2txyewy\\SearchApp.exe    N/A      |\n",
      "|    0   N/A  N/A      5936    C+G   C:\\Windows\\explorer.exe         N/A      |\n",
      "|    0   N/A  N/A      6428    C+G   ...e\\root\\Office16\\EXCEL.EXE    N/A      |\n",
      "|    0   N/A  N/A      6648    C+G   ...artMenuExperienceHost.exe    N/A      |\n",
      "|    0   N/A  N/A      7532    C+G   ...me\\Application\\chrome.exe    N/A      |\n",
      "|    0   N/A  N/A      7680    C+G   ...5n1h2txyewy\\SearchApp.exe    N/A      |\n",
      "|    0   N/A  N/A      7892    C+G   ...cw5n1h2txyewy\\LockApp.exe    N/A      |\n",
      "|    0   N/A  N/A      8488    C+G   ...2txyewy\\TextInputHost.exe    N/A      |\n",
      "|    0   N/A  N/A      8716    C+G   ...wekyb3d8bbwe\\Video.UI.exe    N/A      |\n",
      "|    0   N/A  N/A      9148    C+G   ...ekyb3d8bbwe\\YourPhone.exe    N/A      |\n",
      "|    0   N/A  N/A     10280    C+G   ...ge\\Application\\msedge.exe    N/A      |\n",
      "|    0   N/A  N/A     11176    C+G   ...y\\ShellExperienceHost.exe    N/A      |\n",
      "|    0   N/A  N/A     11352    C+G   ...icrosoft VS Code\\Code.exe    N/A      |\n",
      "+-----------------------------------------------------------------------------+\n"
     ]
    }
   ],
   "source": [
    "!nvidia-smi"
   ]
  },
  {
   "cell_type": "markdown",
   "metadata": {},
   "source": [
    "###### "
   ]
  },
  {
   "cell_type": "markdown",
   "metadata": {},
   "source": [
    "## Normal API: Non-privately differentiable synthesizer"
   ]
  },
  {
   "cell_type": "code",
   "execution_count": 9,
   "metadata": {},
   "outputs": [],
   "source": [
    "data = pd.read_csv(\"adult.csv\")"
   ]
  },
  {
   "cell_type": "code",
   "execution_count": 10,
   "metadata": {
    "scrolled": true
   },
   "outputs": [
    {
     "data": {
      "text/html": [
       "<div>\n",
       "<style scoped>\n",
       "    .dataframe tbody tr th:only-of-type {\n",
       "        vertical-align: middle;\n",
       "    }\n",
       "\n",
       "    .dataframe tbody tr th {\n",
       "        vertical-align: top;\n",
       "    }\n",
       "\n",
       "    .dataframe thead th {\n",
       "        text-align: right;\n",
       "    }\n",
       "</style>\n",
       "<table border=\"1\" class=\"dataframe\">\n",
       "  <thead>\n",
       "    <tr style=\"text-align: right;\">\n",
       "      <th></th>\n",
       "      <th>age</th>\n",
       "      <th>workclass</th>\n",
       "      <th>fnlwgt</th>\n",
       "      <th>education</th>\n",
       "      <th>education-num</th>\n",
       "      <th>marital-status</th>\n",
       "      <th>occupation</th>\n",
       "      <th>relationship</th>\n",
       "      <th>race</th>\n",
       "      <th>sex</th>\n",
       "      <th>capital-gain</th>\n",
       "      <th>capital-loss</th>\n",
       "      <th>hours-per-week</th>\n",
       "      <th>native-country</th>\n",
       "      <th>income</th>\n",
       "    </tr>\n",
       "  </thead>\n",
       "  <tbody>\n",
       "    <tr>\n",
       "      <th>0</th>\n",
       "      <td>39</td>\n",
       "      <td>State-gov</td>\n",
       "      <td>77516</td>\n",
       "      <td>Bachelors</td>\n",
       "      <td>13</td>\n",
       "      <td>Never-married</td>\n",
       "      <td>Adm-clerical</td>\n",
       "      <td>Not-in-family</td>\n",
       "      <td>White</td>\n",
       "      <td>Male</td>\n",
       "      <td>2174</td>\n",
       "      <td>0</td>\n",
       "      <td>40</td>\n",
       "      <td>United-States</td>\n",
       "      <td>&lt;=50K</td>\n",
       "    </tr>\n",
       "    <tr>\n",
       "      <th>1</th>\n",
       "      <td>50</td>\n",
       "      <td>Self-emp-not-inc</td>\n",
       "      <td>83311</td>\n",
       "      <td>Bachelors</td>\n",
       "      <td>13</td>\n",
       "      <td>Married-civ-spouse</td>\n",
       "      <td>Exec-managerial</td>\n",
       "      <td>Husband</td>\n",
       "      <td>White</td>\n",
       "      <td>Male</td>\n",
       "      <td>0</td>\n",
       "      <td>0</td>\n",
       "      <td>13</td>\n",
       "      <td>United-States</td>\n",
       "      <td>&lt;=50K</td>\n",
       "    </tr>\n",
       "    <tr>\n",
       "      <th>2</th>\n",
       "      <td>38</td>\n",
       "      <td>Private</td>\n",
       "      <td>215646</td>\n",
       "      <td>HS-grad</td>\n",
       "      <td>9</td>\n",
       "      <td>Divorced</td>\n",
       "      <td>Handlers-cleaners</td>\n",
       "      <td>Not-in-family</td>\n",
       "      <td>White</td>\n",
       "      <td>Male</td>\n",
       "      <td>0</td>\n",
       "      <td>0</td>\n",
       "      <td>40</td>\n",
       "      <td>United-States</td>\n",
       "      <td>&lt;=50K</td>\n",
       "    </tr>\n",
       "    <tr>\n",
       "      <th>3</th>\n",
       "      <td>53</td>\n",
       "      <td>Private</td>\n",
       "      <td>234721</td>\n",
       "      <td>11th</td>\n",
       "      <td>7</td>\n",
       "      <td>Married-civ-spouse</td>\n",
       "      <td>Handlers-cleaners</td>\n",
       "      <td>Husband</td>\n",
       "      <td>Black</td>\n",
       "      <td>Male</td>\n",
       "      <td>0</td>\n",
       "      <td>0</td>\n",
       "      <td>40</td>\n",
       "      <td>United-States</td>\n",
       "      <td>&lt;=50K</td>\n",
       "    </tr>\n",
       "    <tr>\n",
       "      <th>4</th>\n",
       "      <td>28</td>\n",
       "      <td>Private</td>\n",
       "      <td>338409</td>\n",
       "      <td>Bachelors</td>\n",
       "      <td>13</td>\n",
       "      <td>Married-civ-spouse</td>\n",
       "      <td>Prof-specialty</td>\n",
       "      <td>Wife</td>\n",
       "      <td>Black</td>\n",
       "      <td>Female</td>\n",
       "      <td>0</td>\n",
       "      <td>0</td>\n",
       "      <td>40</td>\n",
       "      <td>Cuba</td>\n",
       "      <td>&lt;=50K</td>\n",
       "    </tr>\n",
       "  </tbody>\n",
       "</table>\n",
       "</div>"
      ],
      "text/plain": [
       "   age          workclass  fnlwgt   education  education-num  \\\n",
       "0   39          State-gov   77516   Bachelors             13   \n",
       "1   50   Self-emp-not-inc   83311   Bachelors             13   \n",
       "2   38            Private  215646     HS-grad              9   \n",
       "3   53            Private  234721        11th              7   \n",
       "4   28            Private  338409   Bachelors             13   \n",
       "\n",
       "        marital-status          occupation    relationship    race      sex  \\\n",
       "0        Never-married        Adm-clerical   Not-in-family   White     Male   \n",
       "1   Married-civ-spouse     Exec-managerial         Husband   White     Male   \n",
       "2             Divorced   Handlers-cleaners   Not-in-family   White     Male   \n",
       "3   Married-civ-spouse   Handlers-cleaners         Husband   Black     Male   \n",
       "4   Married-civ-spouse      Prof-specialty            Wife   Black   Female   \n",
       "\n",
       "   capital-gain  capital-loss  hours-per-week  native-country  income  \n",
       "0          2174             0              40   United-States   <=50K  \n",
       "1             0             0              13   United-States   <=50K  \n",
       "2             0             0              40   United-States   <=50K  \n",
       "3             0             0              40   United-States   <=50K  \n",
       "4             0             0              40            Cuba   <=50K  "
      ]
     },
     "execution_count": 10,
     "metadata": {},
     "output_type": "execute_result"
    }
   ],
   "source": [
    "data.head()"
   ]
  },
  {
   "cell_type": "code",
   "execution_count": 11,
   "metadata": {},
   "outputs": [],
   "source": [
    "synth = TwinSynthesizer(batch_size=200,device='cpu')   ### cpu else cuda"
   ]
  },
  {
   "cell_type": "code",
   "execution_count": 12,
   "metadata": {
    "scrolled": true
   },
   "outputs": [
    {
     "name": "stdout",
     "output_type": "stream",
     "text": [
      "Epoch: [0]  [  0/161]  eta: 0:00:08  loss_g: 2.0207 (2.0207)  loss_d: 0.0142 (0.0142)  loss: 2.0349 (2.0349)  time: 0.0532  data: 0.0000  max mem: 0\n",
      "Epoch: [0]  [ 50/161]  eta: 0:00:05  loss_g: 1.3944 (1.7278)  loss_d: -0.6418 (-0.6082)  loss: 0.8024 (1.1196)  time: 0.0492  data: 0.0000  max mem: 0\n",
      "Epoch: [0]  [100/161]  eta: 0:00:03  loss_g: 1.2429 (1.5635)  loss_d: 0.0401 (-0.4325)  loss: 1.2823 (1.1310)  time: 0.0498  data: 0.0000  max mem: 0\n",
      "Epoch: [0]  [150/161]  eta: 0:00:00  loss_g: 0.7695 (1.3572)  loss_d: 0.2099 (-0.2477)  loss: 0.9733 (1.1095)  time: 0.0506  data: 0.0000  max mem: 0\n",
      "Epoch: [0]  [161/161]  eta: 0:00:00  loss_g: 0.9207 (1.3282)  loss_d: 0.1827 (-0.2210)  loss: 1.0504 (1.1073)  time: 0.0499  data: 0.0000  max mem: 0\n",
      "Epoch: [0] Total time: 0:00:08\n",
      "Epoch: [1]  [  0/161]  eta: 0:00:07  loss_g: 1.0147 (1.0147)  loss_d: -0.0040 (-0.0040)  loss: 1.0107 (1.0107)  time: 0.0458  data: 0.0000  max mem: 0\n",
      "Epoch: [1]  [ 50/161]  eta: 0:00:05  loss_g: 0.5482 (0.6983)  loss_d: 0.1260 (0.1224)  loss: 0.6186 (0.8207)  time: 0.0502  data: 0.0000  max mem: 0\n",
      "Epoch: [1]  [100/161]  eta: 0:00:03  loss_g: 0.3550 (0.5507)  loss_d: 0.0245 (0.0724)  loss: 0.3793 (0.6231)  time: 0.0493  data: 0.0000  max mem: 0\n",
      "Epoch: [1]  [150/161]  eta: 0:00:00  loss_g: 0.3076 (0.4834)  loss_d: 0.0678 (0.0505)  loss: 0.3654 (0.5339)  time: 0.0498  data: 0.0000  max mem: 0\n",
      "Epoch: [1]  [161/161]  eta: 0:00:00  loss_g: 0.2330 (0.4615)  loss_d: -0.0348 (0.0448)  loss: 0.1511 (0.5063)  time: 0.0495  data: 0.0000  max mem: 0\n",
      "Epoch: [1] Total time: 0:00:08\n",
      "Epoch: [2]  [  0/161]  eta: 0:00:08  loss_g: 0.1353 (0.1353)  loss_d: 0.1982 (0.1982)  loss: 0.3335 (0.3335)  time: 0.0541  data: 0.0000  max mem: 0\n",
      "Epoch: [2]  [ 50/161]  eta: 0:00:05  loss_g: 0.0163 (-0.0249)  loss_d: -0.0166 (0.0443)  loss: 0.0701 (0.0194)  time: 0.0494  data: 0.0000  max mem: 0\n",
      "Epoch: [2]  [100/161]  eta: 0:00:03  loss_g: -0.1097 (-0.0317)  loss_d: -0.0378 (0.0374)  loss: -0.1979 (0.0057)  time: 0.0485  data: 0.0000  max mem: 0\n",
      "Epoch: [2]  [150/161]  eta: 0:00:00  loss_g: -0.4603 (-0.1429)  loss_d: -0.0204 (0.0313)  loss: -0.4581 (-0.1115)  time: 0.0503  data: 0.0000  max mem: 0\n",
      "Epoch: [2]  [161/161]  eta: 0:00:00  loss_g: -0.4209 (-0.1670)  loss_d: -0.0208 (0.0283)  loss: -0.4830 (-0.1387)  time: 0.0487  data: 0.0000  max mem: 0\n",
      "Epoch: [2] Total time: 0:00:08\n",
      "Epoch: [3]  [  0/161]  eta: 0:00:07  loss_g: -0.2290 (-0.2290)  loss_d: -0.0475 (-0.0475)  loss: -0.2765 (-0.2765)  time: 0.0467  data: 0.0000  max mem: 0\n",
      "Epoch: [3]  [ 50/161]  eta: 0:00:05  loss_g: -0.5229 (-0.4918)  loss_d: -0.0552 (0.0290)  loss: -0.6246 (-0.4628)  time: 0.0566  data: 0.0000  max mem: 0\n",
      "Epoch: [3]  [100/161]  eta: 0:00:03  loss_g: -0.7238 (-0.5699)  loss_d: 0.0646 (0.0209)  loss: -0.6701 (-0.5490)  time: 0.0519  data: 0.0000  max mem: 0\n",
      "Epoch: [3]  [150/161]  eta: 0:00:00  loss_g: -1.1948 (-0.7568)  loss_d: -0.0440 (0.0151)  loss: -1.2279 (-0.7417)  time: 0.0527  data: 0.0000  max mem: 0\n",
      "Epoch: [3]  [161/161]  eta: 0:00:00  loss_g: -1.2169 (-0.7913)  loss_d: -0.0166 (0.0108)  loss: -1.2559 (-0.7805)  time: 0.0537  data: 0.0000  max mem: 0\n",
      "Epoch: [3] Total time: 0:00:08\n",
      "Epoch: [4]  [  0/161]  eta: 0:00:07  loss_g: -1.3594 (-1.3594)  loss_d: 0.0810 (0.0810)  loss: -1.2784 (-1.2784)  time: 0.0485  data: 0.0000  max mem: 0\n",
      "Epoch: [4]  [ 50/161]  eta: 0:00:06  loss_g: -1.2278 (-1.2542)  loss_d: -0.0202 (0.0240)  loss: -1.2322 (-1.2302)  time: 0.0544  data: 0.0000  max mem: 0\n",
      "Epoch: [4]  [100/161]  eta: 0:00:03  loss_g: -1.3092 (-1.2597)  loss_d: -0.0417 (-0.0117)  loss: -1.4004 (-1.2714)  time: 0.0547  data: 0.0000  max mem: 0\n",
      "Epoch: [4]  [150/161]  eta: 0:00:00  loss_g: -1.2699 (-1.2858)  loss_d: 0.0029 (-0.0082)  loss: -1.2678 (-1.2941)  time: 0.0531  data: 0.0000  max mem: 0\n",
      "Epoch: [4]  [161/161]  eta: 0:00:00  loss_g: -1.1038 (-1.2685)  loss_d: -0.1439 (-0.0183)  loss: -1.2191 (-1.2868)  time: 0.0546  data: 0.0000  max mem: 0\n",
      "Epoch: [4] Total time: 0:00:08\n",
      "Epoch: [5]  [  0/161]  eta: 0:00:09  loss_g: -0.9225 (-0.9225)  loss_d: -0.1063 (-0.1063)  loss: -1.0288 (-1.0288)  time: 0.0599  data: 0.0000  max mem: 0\n",
      "Epoch: [5]  [ 50/161]  eta: 0:00:06  loss_g: -1.1848 (-1.0630)  loss_d: -0.0258 (0.0082)  loss: -1.1929 (-1.0548)  time: 0.0520  data: 0.0000  max mem: 0\n",
      "Epoch: [5]  [100/161]  eta: 0:00:03  loss_g: -1.1383 (-1.0931)  loss_d: 0.0421 (0.0045)  loss: -1.0944 (-1.0886)  time: 0.0584  data: 0.0000  max mem: 0\n",
      "Epoch: [5]  [150/161]  eta: 0:00:00  loss_g: -1.3492 (-1.1538)  loss_d: -0.0255 (-0.0035)  loss: -1.3649 (-1.1573)  time: 0.0562  data: 0.0000  max mem: 0\n",
      "Epoch: [5]  [161/161]  eta: 0:00:00  loss_g: -1.3492 (-1.1670)  loss_d: 0.0019 (-0.0051)  loss: -1.3527 (-1.1721)  time: 0.0562  data: 0.0000  max mem: 0\n",
      "Epoch: [5] Total time: 0:00:09\n",
      "Epoch: [6]  [  0/161]  eta: 0:00:07  loss_g: -1.2274 (-1.2274)  loss_d: -0.3899 (-0.3899)  loss: -1.6173 (-1.6173)  time: 0.0480  data: 0.0000  max mem: 0\n",
      "Epoch: [6]  [ 50/161]  eta: 0:00:05  loss_g: -1.4381 (-1.3766)  loss_d: -0.1172 (-0.0441)  loss: -1.5803 (-1.4207)  time: 0.0515  data: 0.0000  max mem: 0\n",
      "Epoch: [6]  [100/161]  eta: 0:00:03  loss_g: -1.4225 (-1.4141)  loss_d: -0.0433 (-0.0206)  loss: -1.4483 (-1.4347)  time: 0.0554  data: 0.0000  max mem: 0\n",
      "Epoch: [6]  [150/161]  eta: 0:00:00  loss_g: -1.6794 (-1.4284)  loss_d: -0.0726 (-0.0309)  loss: -1.7843 (-1.4593)  time: 0.0545  data: 0.0000  max mem: 0\n",
      "Epoch: [6]  [161/161]  eta: 0:00:00  loss_g: -1.7202 (-1.4542)  loss_d: -0.0923 (-0.0325)  loss: -1.8309 (-1.4867)  time: 0.0541  data: 0.0000  max mem: 0\n",
      "Epoch: [6] Total time: 0:00:08\n",
      "Epoch: [7]  [  0/161]  eta: 0:00:09  loss_g: -1.5796 (-1.5796)  loss_d: 0.3594 (0.3594)  loss: -1.2201 (-1.2201)  time: 0.0600  data: 0.0000  max mem: 0\n",
      "Epoch: [7]  [ 50/161]  eta: 0:00:06  loss_g: -1.3053 (-1.3896)  loss_d: 0.0665 (-0.0068)  loss: -1.2369 (-1.3964)  time: 0.0612  data: 0.0000  max mem: 0\n",
      "Epoch: [7]  [100/161]  eta: 0:00:03  loss_g: -1.7798 (-1.4613)  loss_d: -0.0008 (-0.0447)  loss: -1.7117 (-1.5060)  time: 0.0547  data: 0.0000  max mem: 0\n",
      "Epoch: [7]  [150/161]  eta: 0:00:00  loss_g: -1.4617 (-1.5124)  loss_d: -0.1210 (-0.0479)  loss: -1.6219 (-1.5604)  time: 0.0563  data: 0.0000  max mem: 0\n",
      "Epoch: [7]  [161/161]  eta: 0:00:00  loss_g: -1.4854 (-1.5111)  loss_d: 0.0096 (-0.0400)  loss: -1.5363 (-1.5512)  time: 0.0558  data: 0.0000  max mem: 0\n",
      "Epoch: [7] Total time: 0:00:09\n",
      "Epoch: [8]  [  0/161]  eta: 0:00:08  loss_g: -1.6497 (-1.6497)  loss_d: -0.1525 (-0.1525)  loss: -1.8022 (-1.8022)  time: 0.0506  data: 0.0000  max mem: 0\n",
      "Epoch: [8]  [ 50/161]  eta: 0:00:06  loss_g: -1.7321 (-1.6442)  loss_d: 0.0036 (-0.0396)  loss: -1.7071 (-1.6838)  time: 0.0544  data: 0.0000  max mem: 0\n",
      "Epoch: [8]  [100/161]  eta: 0:00:03  loss_g: -1.3646 (-1.5204)  loss_d: -0.0798 (-0.0634)  loss: -1.4410 (-1.5838)  time: 0.0565  data: 0.0000  max mem: 0\n",
      "Epoch: [8]  [150/161]  eta: 0:00:00  loss_g: -1.6145 (-1.5319)  loss_d: -0.0521 (-0.0503)  loss: -1.6298 (-1.5822)  time: 0.0551  data: 0.0000  max mem: 0\n",
      "Epoch: [8]  [161/161]  eta: 0:00:00  loss_g: -1.6429 (-1.5362)  loss_d: 0.0220 (-0.0471)  loss: -1.6345 (-1.5832)  time: 0.0568  data: 0.0000  max mem: 0\n",
      "Epoch: [8] Total time: 0:00:08\n",
      "Epoch: [9]  [  0/161]  eta: 0:00:08  loss_g: -1.7475 (-1.7475)  loss_d: -0.0401 (-0.0401)  loss: -1.7877 (-1.7877)  time: 0.0518  data: 0.0000  max mem: 0\n",
      "Epoch: [9]  [ 50/161]  eta: 0:00:06  loss_g: -1.6690 (-1.6525)  loss_d: 0.0237 (-0.0222)  loss: -1.6469 (-1.6747)  time: 0.0534  data: 0.0000  max mem: 0\n",
      "Epoch: [9]  [100/161]  eta: 0:00:03  loss_g: -1.7969 (-1.7327)  loss_d: -0.0383 (-0.0651)  loss: -1.9210 (-1.7978)  time: 0.0551  data: 0.0000  max mem: 0\n",
      "Epoch: [9]  [150/161]  eta: 0:00:00  loss_g: -1.6354 (-1.6884)  loss_d: -0.1686 (-0.0870)  loss: -1.7960 (-1.7754)  time: 0.0553  data: 0.0000  max mem: 0\n",
      "Epoch: [9]  [161/161]  eta: 0:00:00  loss_g: -1.6270 (-1.6835)  loss_d: -0.0915 (-0.0794)  loss: -1.6791 (-1.7628)  time: 0.0551  data: 0.0000  max mem: 0\n",
      "Epoch: [9] Total time: 0:00:09\n",
      "Epoch: [10]  [  0/161]  eta: 0:00:07  loss_g: -1.8646 (-1.8646)  loss_d: -0.2931 (-0.2931)  loss: -2.1577 (-2.1577)  time: 0.0476  data: 0.0000  max mem: 0\n",
      "Epoch: [10]  [ 50/161]  eta: 0:00:05  loss_g: -1.5473 (-1.6061)  loss_d: -0.1427 (-0.1098)  loss: -1.6343 (-1.7158)  time: 0.0526  data: 0.0000  max mem: 0\n",
      "Epoch: [10]  [100/161]  eta: 0:00:03  loss_g: -1.4898 (-1.5411)  loss_d: -0.1689 (-0.1163)  loss: -1.6669 (-1.6574)  time: 0.0536  data: 0.0000  max mem: 0\n",
      "Epoch: [10]  [150/161]  eta: 0:00:00  loss_g: -1.4110 (-1.5320)  loss_d: -0.0324 (-0.1024)  loss: -1.3991 (-1.6344)  time: 0.0574  data: 0.0000  max mem: 0\n",
      "Epoch: [10]  [161/161]  eta: 0:00:00  loss_g: -1.3822 (-1.5194)  loss_d: -0.0569 (-0.1026)  loss: -1.3750 (-1.6220)  time: 0.0571  data: 0.0000  max mem: 0\n",
      "Epoch: [10] Total time: 0:00:08\n",
      "Epoch: [11]  [  0/161]  eta: 0:00:09  loss_g: -1.4255 (-1.4255)  loss_d: -0.3170 (-0.3170)  loss: -1.7425 (-1.7425)  time: 0.0570  data: 0.0000  max mem: 0\n",
      "Epoch: [11]  [ 50/161]  eta: 0:00:05  loss_g: -1.5301 (-1.5293)  loss_d: -0.1569 (-0.0835)  loss: -1.6645 (-1.6129)  time: 0.0510  data: 0.0000  max mem: 0\n",
      "Epoch: [11]  [100/161]  eta: 0:00:03  loss_g: -1.4515 (-1.5028)  loss_d: -0.1783 (-0.1122)  loss: -1.5692 (-1.6149)  time: 0.0482  data: 0.0000  max mem: 0\n",
      "Epoch: [11]  [150/161]  eta: 0:00:00  loss_g: -1.3688 (-1.4760)  loss_d: 0.0228 (-0.0851)  loss: -1.3092 (-1.5612)  time: 0.0500  data: 0.0000  max mem: 0\n",
      "Epoch: [11]  [161/161]  eta: 0:00:00  loss_g: -1.3688 (-1.4651)  loss_d: -0.0491 (-0.0833)  loss: -1.4273 (-1.5484)  time: 0.0501  data: 0.0000  max mem: 0\n",
      "Epoch: [11] Total time: 0:00:08\n",
      "Epoch: [12]  [  0/161]  eta: 0:00:07  loss_g: -1.5570 (-1.5570)  loss_d: -0.2190 (-0.2190)  loss: -1.7760 (-1.7760)  time: 0.0474  data: 0.0000  max mem: 0\n",
      "Epoch: [12]  [ 50/161]  eta: 0:00:05  loss_g: -1.3399 (-1.3290)  loss_d: -0.1248 (-0.1616)  loss: -1.4550 (-1.4906)  time: 0.0507  data: 0.0000  max mem: 0\n",
      "Epoch: [12]  [100/161]  eta: 0:00:03  loss_g: -1.2975 (-1.3493)  loss_d: -0.1904 (-0.1176)  loss: -1.3951 (-1.4669)  time: 0.0493  data: 0.0000  max mem: 0\n",
      "Epoch: [12]  [150/161]  eta: 0:00:00  loss_g: -1.3588 (-1.3171)  loss_d: -0.1470 (-0.1113)  loss: -1.3956 (-1.4284)  time: 0.0542  data: 0.0000  max mem: 0\n",
      "Epoch: [12]  [161/161]  eta: 0:00:00  loss_g: -1.2974 (-1.3139)  loss_d: -0.1091 (-0.1079)  loss: -1.3740 (-1.4218)  time: 0.0534  data: 0.0000  max mem: 0\n",
      "Epoch: [12] Total time: 0:00:08\n",
      "Epoch: [13]  [  0/161]  eta: 0:00:07  loss_g: -1.1340 (-1.1340)  loss_d: -0.4791 (-0.4791)  loss: -1.6131 (-1.6131)  time: 0.0441  data: 0.0000  max mem: 0\n",
      "Epoch: [13]  [ 50/161]  eta: 0:00:05  loss_g: -1.2984 (-1.2255)  loss_d: -0.2244 (-0.1333)  loss: -1.4440 (-1.3588)  time: 0.0501  data: 0.0000  max mem: 0\n",
      "Epoch: [13]  [100/161]  eta: 0:00:03  loss_g: -1.3545 (-1.2625)  loss_d: -0.1149 (-0.1052)  loss: -1.4522 (-1.3677)  time: 0.0499  data: 0.0000  max mem: 0\n",
      "Epoch: [13]  [150/161]  eta: 0:00:00  loss_g: -1.0851 (-1.2125)  loss_d: 0.0132 (-0.0917)  loss: -1.2104 (-1.3042)  time: 0.0498  data: 0.0000  max mem: 0\n",
      "Epoch: [13]  [161/161]  eta: 0:00:00  loss_g: -1.3496 (-1.2229)  loss_d: -0.0608 (-0.0933)  loss: -1.3707 (-1.3162)  time: 0.0511  data: 0.0000  max mem: 0\n",
      "Epoch: [13] Total time: 0:00:08\n",
      "Epoch: [14]  [  0/161]  eta: 0:00:10  loss_g: -1.3702 (-1.3702)  loss_d: -0.0408 (-0.0408)  loss: -1.4109 (-1.4109)  time: 0.0630  data: 0.0000  max mem: 0\n",
      "Epoch: [14]  [ 50/161]  eta: 0:00:05  loss_g: -1.2528 (-1.2855)  loss_d: -0.1707 (-0.1388)  loss: -1.3997 (-1.4243)  time: 0.0518  data: 0.0000  max mem: 0\n",
      "Epoch: [14]  [100/161]  eta: 0:00:03  loss_g: -0.8664 (-1.1385)  loss_d: -0.0498 (-0.1074)  loss: -0.9649 (-1.2460)  time: 0.0498  data: 0.0000  max mem: 0\n",
      "Epoch: [14]  [150/161]  eta: 0:00:00  loss_g: -1.2573 (-1.1717)  loss_d: -0.1664 (-0.1053)  loss: -1.4678 (-1.2770)  time: 0.0499  data: 0.0000  max mem: 0\n",
      "Epoch: [14]  [161/161]  eta: 0:00:00  loss_g: -1.0681 (-1.1617)  loss_d: -0.0750 (-0.0952)  loss: -1.1929 (-1.2569)  time: 0.0498  data: 0.0000  max mem: 0\n",
      "Epoch: [14] Total time: 0:00:08\n",
      "Epoch: [15]  [  0/161]  eta: 0:00:09  loss_g: -1.0410 (-1.0410)  loss_d: -0.1085 (-0.1085)  loss: -1.1495 (-1.1495)  time: 0.0604  data: 0.0000  max mem: 0\n",
      "Epoch: [15]  [ 50/161]  eta: 0:00:05  loss_g: -0.8738 (-0.8747)  loss_d: -0.0852 (-0.0611)  loss: -1.0013 (-0.9358)  time: 0.0509  data: 0.0000  max mem: 0\n",
      "Epoch: [15]  [100/161]  eta: 0:00:03  loss_g: -0.9436 (-0.9007)  loss_d: -0.0165 (-0.0569)  loss: -1.0234 (-0.9576)  time: 0.0518  data: 0.0000  max mem: 0\n",
      "Epoch: [15]  [150/161]  eta: 0:00:00  loss_g: -1.0374 (-0.9260)  loss_d: -0.1997 (-0.0686)  loss: -1.0618 (-0.9945)  time: 0.0511  data: 0.0000  max mem: 0\n",
      "Epoch: [15]  [161/161]  eta: 0:00:00  loss_g: -1.1300 (-0.9483)  loss_d: -0.1798 (-0.0662)  loss: -1.3241 (-1.0145)  time: 0.0512  data: 0.0000  max mem: 0\n",
      "Epoch: [15] Total time: 0:00:08\n",
      "Epoch: [16]  [  0/161]  eta: 0:00:07  loss_g: -1.4892 (-1.4892)  loss_d: -0.3503 (-0.3503)  loss: -1.8395 (-1.8395)  time: 0.0465  data: 0.0000  max mem: 0\n",
      "Epoch: [16]  [ 50/161]  eta: 0:00:05  loss_g: -1.2809 (-1.0622)  loss_d: -0.0503 (-0.0479)  loss: -1.3242 (-1.1101)  time: 0.0520  data: 0.0000  max mem: 0\n",
      "Epoch: [16]  [100/161]  eta: 0:00:03  loss_g: -0.9911 (-1.1236)  loss_d: -0.0792 (-0.0550)  loss: -1.1606 (-1.1786)  time: 0.0515  data: 0.0000  max mem: 0\n",
      "Epoch: [16]  [150/161]  eta: 0:00:00  loss_g: -0.8769 (-1.0407)  loss_d: -0.0655 (-0.0626)  loss: -1.0242 (-1.1032)  time: 0.0507  data: 0.0000  max mem: 0\n",
      "Epoch: [16]  [161/161]  eta: 0:00:00  loss_g: -1.0601 (-1.0427)  loss_d: -0.0474 (-0.0584)  loss: -1.1673 (-1.1011)  time: 0.0507  data: 0.0000  max mem: 0\n",
      "Epoch: [16] Total time: 0:00:08\n",
      "Epoch: [17]  [  0/161]  eta: 0:00:07  loss_g: -1.2295 (-1.2295)  loss_d: -0.2505 (-0.2505)  loss: -1.4800 (-1.4800)  time: 0.0482  data: 0.0000  max mem: 0\n",
      "Epoch: [17]  [ 50/161]  eta: 0:00:05  loss_g: -1.0119 (-1.0967)  loss_d: -0.0916 (-0.0795)  loss: -1.0615 (-1.1762)  time: 0.0487  data: 0.0000  max mem: 0\n",
      "Epoch: [17]  [100/161]  eta: 0:00:03  loss_g: -0.8771 (-0.9605)  loss_d: -0.0894 (-0.1059)  loss: -0.9054 (-1.0664)  time: 0.0513  data: 0.0000  max mem: 0\n",
      "Epoch: [17]  [150/161]  eta: 0:00:00  loss_g: -1.0284 (-0.9784)  loss_d: -0.1530 (-0.0993)  loss: -1.1589 (-1.0777)  time: 0.0487  data: 0.0000  max mem: 0\n",
      "Epoch: [17]  [161/161]  eta: 0:00:00  loss_g: -1.0383 (-0.9845)  loss_d: -0.1804 (-0.0997)  loss: -1.2346 (-1.0842)  time: 0.0517  data: 0.0000  max mem: 0\n",
      "Epoch: [17] Total time: 0:00:08\n",
      "Epoch: [18]  [  0/161]  eta: 0:00:08  loss_g: -1.0867 (-1.0867)  loss_d: -0.0243 (-0.0243)  loss: -1.1110 (-1.1110)  time: 0.0525  data: 0.0000  max mem: 0\n",
      "Epoch: [18]  [ 50/161]  eta: 0:00:06  loss_g: -0.5897 (-0.7350)  loss_d: -0.1509 (-0.1458)  loss: -0.7668 (-0.8808)  time: 0.0563  data: 0.0000  max mem: 0\n",
      "Epoch: [18]  [100/161]  eta: 0:00:03  loss_g: -0.9931 (-0.7896)  loss_d: -0.0833 (-0.1202)  loss: -1.1660 (-0.9098)  time: 0.0570  data: 0.0000  max mem: 0\n",
      "Epoch: [18]  [150/161]  eta: 0:00:00  loss_g: -0.6249 (-0.7452)  loss_d: -0.0064 (-0.1140)  loss: -0.5698 (-0.8592)  time: 0.0555  data: 0.0000  max mem: 0\n",
      "Epoch: [18]  [161/161]  eta: 0:00:00  loss_g: -0.6453 (-0.7368)  loss_d: 0.0030 (-0.1083)  loss: -0.6650 (-0.8451)  time: 0.0559  data: 0.0000  max mem: 0\n",
      "Epoch: [18] Total time: 0:00:08\n",
      "Epoch: [19]  [  0/161]  eta: 0:00:08  loss_g: -0.8110 (-0.8110)  loss_d: -0.4621 (-0.4621)  loss: -1.2732 (-1.2732)  time: 0.0545  data: 0.0000  max mem: 0\n",
      "Epoch: [19]  [ 50/161]  eta: 0:00:06  loss_g: -0.8902 (-0.9144)  loss_d: -0.2521 (-0.1696)  loss: -1.0576 (-1.0839)  time: 0.0524  data: 0.0000  max mem: 0\n",
      "Epoch: [19]  [100/161]  eta: 0:00:03  loss_g: -0.4523 (-0.7535)  loss_d: -0.2344 (-0.1680)  loss: -0.6189 (-0.9214)  time: 0.0538  data: 0.0000  max mem: 0\n",
      "Epoch: [19]  [150/161]  eta: 0:00:00  loss_g: -0.7221 (-0.7321)  loss_d: -0.0983 (-0.1466)  loss: -0.8629 (-0.8787)  time: 0.0556  data: 0.0000  max mem: 0\n",
      "Epoch: [19]  [161/161]  eta: 0:00:00  loss_g: -0.5876 (-0.7197)  loss_d: -0.1709 (-0.1465)  loss: -0.8277 (-0.8662)  time: 0.0563  data: 0.0000  max mem: 0\n",
      "Epoch: [19] Total time: 0:00:08\n"
     ]
    }
   ],
   "source": [
    "synth.fit(data=data,epochs=20,discrete_columns=discrete_columns)"
   ]
  },
  {
   "cell_type": "code",
   "execution_count": 13,
   "metadata": {
    "scrolled": true
   },
   "outputs": [],
   "source": [
    "sample = synth.sample(1000)"
   ]
  },
  {
   "cell_type": "code",
   "execution_count": 14,
   "metadata": {},
   "outputs": [
    {
     "data": {
      "text/html": [
       "<div>\n",
       "<style scoped>\n",
       "    .dataframe tbody tr th:only-of-type {\n",
       "        vertical-align: middle;\n",
       "    }\n",
       "\n",
       "    .dataframe tbody tr th {\n",
       "        vertical-align: top;\n",
       "    }\n",
       "\n",
       "    .dataframe thead th {\n",
       "        text-align: right;\n",
       "    }\n",
       "</style>\n",
       "<table border=\"1\" class=\"dataframe\">\n",
       "  <thead>\n",
       "    <tr style=\"text-align: right;\">\n",
       "      <th></th>\n",
       "      <th>age</th>\n",
       "      <th>workclass</th>\n",
       "      <th>fnlwgt</th>\n",
       "      <th>education</th>\n",
       "      <th>education-num</th>\n",
       "      <th>marital-status</th>\n",
       "      <th>occupation</th>\n",
       "      <th>relationship</th>\n",
       "      <th>race</th>\n",
       "      <th>sex</th>\n",
       "      <th>capital-gain</th>\n",
       "      <th>capital-loss</th>\n",
       "      <th>hours-per-week</th>\n",
       "      <th>native-country</th>\n",
       "      <th>income</th>\n",
       "    </tr>\n",
       "  </thead>\n",
       "  <tbody>\n",
       "    <tr>\n",
       "      <th>0</th>\n",
       "      <td>20</td>\n",
       "      <td>?</td>\n",
       "      <td>283339</td>\n",
       "      <td>HS-grad</td>\n",
       "      <td>10</td>\n",
       "      <td>Never-married</td>\n",
       "      <td>Sales</td>\n",
       "      <td>Not-in-family</td>\n",
       "      <td>White</td>\n",
       "      <td>Female</td>\n",
       "      <td>59</td>\n",
       "      <td>0</td>\n",
       "      <td>15</td>\n",
       "      <td>United-States</td>\n",
       "      <td>&lt;=50K</td>\n",
       "    </tr>\n",
       "    <tr>\n",
       "      <th>1</th>\n",
       "      <td>54</td>\n",
       "      <td>Local-gov</td>\n",
       "      <td>132887</td>\n",
       "      <td>9th</td>\n",
       "      <td>10</td>\n",
       "      <td>Never-married</td>\n",
       "      <td>Farming-fishing</td>\n",
       "      <td>Own-child</td>\n",
       "      <td>White</td>\n",
       "      <td>Female</td>\n",
       "      <td>-12</td>\n",
       "      <td>0</td>\n",
       "      <td>15</td>\n",
       "      <td>United-States</td>\n",
       "      <td>&lt;=50K</td>\n",
       "    </tr>\n",
       "    <tr>\n",
       "      <th>2</th>\n",
       "      <td>44</td>\n",
       "      <td>Self-emp-not-inc</td>\n",
       "      <td>415897</td>\n",
       "      <td>Bachelors</td>\n",
       "      <td>13</td>\n",
       "      <td>Married-civ-spouse</td>\n",
       "      <td>Prof-specialty</td>\n",
       "      <td>Husband</td>\n",
       "      <td>Asian-Pac-Islander</td>\n",
       "      <td>Male</td>\n",
       "      <td>16185</td>\n",
       "      <td>1</td>\n",
       "      <td>51</td>\n",
       "      <td>United-States</td>\n",
       "      <td>&gt;50K</td>\n",
       "    </tr>\n",
       "    <tr>\n",
       "      <th>3</th>\n",
       "      <td>46</td>\n",
       "      <td>Local-gov</td>\n",
       "      <td>217836</td>\n",
       "      <td>Some-college</td>\n",
       "      <td>10</td>\n",
       "      <td>Never-married</td>\n",
       "      <td>Machine-op-inspct</td>\n",
       "      <td>Husband</td>\n",
       "      <td>White</td>\n",
       "      <td>Male</td>\n",
       "      <td>21</td>\n",
       "      <td>-4</td>\n",
       "      <td>40</td>\n",
       "      <td>Cuba</td>\n",
       "      <td>&lt;=50K</td>\n",
       "    </tr>\n",
       "    <tr>\n",
       "      <th>4</th>\n",
       "      <td>24</td>\n",
       "      <td>Private</td>\n",
       "      <td>133365</td>\n",
       "      <td>Assoc-acdm</td>\n",
       "      <td>10</td>\n",
       "      <td>Never-married</td>\n",
       "      <td>Handlers-cleaners</td>\n",
       "      <td>Not-in-family</td>\n",
       "      <td>White</td>\n",
       "      <td>Female</td>\n",
       "      <td>-71</td>\n",
       "      <td>-1</td>\n",
       "      <td>40</td>\n",
       "      <td>United-States</td>\n",
       "      <td>&lt;=50K</td>\n",
       "    </tr>\n",
       "    <tr>\n",
       "      <th>...</th>\n",
       "      <td>...</td>\n",
       "      <td>...</td>\n",
       "      <td>...</td>\n",
       "      <td>...</td>\n",
       "      <td>...</td>\n",
       "      <td>...</td>\n",
       "      <td>...</td>\n",
       "      <td>...</td>\n",
       "      <td>...</td>\n",
       "      <td>...</td>\n",
       "      <td>...</td>\n",
       "      <td>...</td>\n",
       "      <td>...</td>\n",
       "      <td>...</td>\n",
       "      <td>...</td>\n",
       "    </tr>\n",
       "    <tr>\n",
       "      <th>995</th>\n",
       "      <td>22</td>\n",
       "      <td>Private</td>\n",
       "      <td>315985</td>\n",
       "      <td>Bachelors</td>\n",
       "      <td>10</td>\n",
       "      <td>Married-civ-spouse</td>\n",
       "      <td>Exec-managerial</td>\n",
       "      <td>Husband</td>\n",
       "      <td>White</td>\n",
       "      <td>Male</td>\n",
       "      <td>-1</td>\n",
       "      <td>-1</td>\n",
       "      <td>40</td>\n",
       "      <td>United-States</td>\n",
       "      <td>&lt;=50K</td>\n",
       "    </tr>\n",
       "    <tr>\n",
       "      <th>996</th>\n",
       "      <td>35</td>\n",
       "      <td>Private</td>\n",
       "      <td>186220</td>\n",
       "      <td>Some-college</td>\n",
       "      <td>11</td>\n",
       "      <td>Never-married</td>\n",
       "      <td>Other-service</td>\n",
       "      <td>Not-in-family</td>\n",
       "      <td>White</td>\n",
       "      <td>Female</td>\n",
       "      <td>-54</td>\n",
       "      <td>-3</td>\n",
       "      <td>16</td>\n",
       "      <td>Germany</td>\n",
       "      <td>&lt;=50K</td>\n",
       "    </tr>\n",
       "    <tr>\n",
       "      <th>997</th>\n",
       "      <td>30</td>\n",
       "      <td>Private</td>\n",
       "      <td>47154</td>\n",
       "      <td>11th</td>\n",
       "      <td>10</td>\n",
       "      <td>Widowed</td>\n",
       "      <td>Craft-repair</td>\n",
       "      <td>Not-in-family</td>\n",
       "      <td>Other</td>\n",
       "      <td>Male</td>\n",
       "      <td>-27</td>\n",
       "      <td>-2</td>\n",
       "      <td>23</td>\n",
       "      <td>United-States</td>\n",
       "      <td>&lt;=50K</td>\n",
       "    </tr>\n",
       "    <tr>\n",
       "      <th>998</th>\n",
       "      <td>50</td>\n",
       "      <td>Local-gov</td>\n",
       "      <td>382909</td>\n",
       "      <td>HS-grad</td>\n",
       "      <td>9</td>\n",
       "      <td>Married-civ-spouse</td>\n",
       "      <td>Tech-support</td>\n",
       "      <td>Husband</td>\n",
       "      <td>White</td>\n",
       "      <td>Male</td>\n",
       "      <td>-66</td>\n",
       "      <td>-1</td>\n",
       "      <td>49</td>\n",
       "      <td>United-States</td>\n",
       "      <td>&lt;=50K</td>\n",
       "    </tr>\n",
       "    <tr>\n",
       "      <th>999</th>\n",
       "      <td>43</td>\n",
       "      <td>Private</td>\n",
       "      <td>111125</td>\n",
       "      <td>HS-grad</td>\n",
       "      <td>9</td>\n",
       "      <td>Never-married</td>\n",
       "      <td>Protective-serv</td>\n",
       "      <td>Not-in-family</td>\n",
       "      <td>White</td>\n",
       "      <td>Male</td>\n",
       "      <td>-32</td>\n",
       "      <td>-1</td>\n",
       "      <td>40</td>\n",
       "      <td>United-States</td>\n",
       "      <td>&gt;50K</td>\n",
       "    </tr>\n",
       "  </tbody>\n",
       "</table>\n",
       "<p>1000 rows × 15 columns</p>\n",
       "</div>"
      ],
      "text/plain": [
       "     age          workclass  fnlwgt      education  education-num  \\\n",
       "0     20                  ?  283339        HS-grad             10   \n",
       "1     54          Local-gov  132887            9th             10   \n",
       "2     44   Self-emp-not-inc  415897      Bachelors             13   \n",
       "3     46          Local-gov  217836   Some-college             10   \n",
       "4     24            Private  133365     Assoc-acdm             10   \n",
       "..   ...                ...     ...            ...            ...   \n",
       "995   22            Private  315985      Bachelors             10   \n",
       "996   35            Private  186220   Some-college             11   \n",
       "997   30            Private   47154           11th             10   \n",
       "998   50          Local-gov  382909        HS-grad              9   \n",
       "999   43            Private  111125        HS-grad              9   \n",
       "\n",
       "          marital-status          occupation    relationship  \\\n",
       "0          Never-married               Sales   Not-in-family   \n",
       "1          Never-married     Farming-fishing       Own-child   \n",
       "2     Married-civ-spouse      Prof-specialty         Husband   \n",
       "3          Never-married   Machine-op-inspct         Husband   \n",
       "4          Never-married   Handlers-cleaners   Not-in-family   \n",
       "..                   ...                 ...             ...   \n",
       "995   Married-civ-spouse     Exec-managerial         Husband   \n",
       "996        Never-married       Other-service   Not-in-family   \n",
       "997              Widowed        Craft-repair   Not-in-family   \n",
       "998   Married-civ-spouse        Tech-support         Husband   \n",
       "999        Never-married     Protective-serv   Not-in-family   \n",
       "\n",
       "                    race      sex  capital-gain  capital-loss  hours-per-week  \\\n",
       "0                  White   Female            59             0              15   \n",
       "1                  White   Female           -12             0              15   \n",
       "2     Asian-Pac-Islander     Male         16185             1              51   \n",
       "3                  White     Male            21            -4              40   \n",
       "4                  White   Female           -71            -1              40   \n",
       "..                   ...      ...           ...           ...             ...   \n",
       "995                White     Male            -1            -1              40   \n",
       "996                White   Female           -54            -3              16   \n",
       "997                Other     Male           -27            -2              23   \n",
       "998                White     Male           -66            -1              49   \n",
       "999                White     Male           -32            -1              40   \n",
       "\n",
       "     native-country  income  \n",
       "0     United-States   <=50K  \n",
       "1     United-States   <=50K  \n",
       "2     United-States    >50K  \n",
       "3              Cuba   <=50K  \n",
       "4     United-States   <=50K  \n",
       "..              ...     ...  \n",
       "995   United-States   <=50K  \n",
       "996         Germany   <=50K  \n",
       "997   United-States   <=50K  \n",
       "998   United-States   <=50K  \n",
       "999   United-States    >50K  \n",
       "\n",
       "[1000 rows x 15 columns]"
      ]
     },
     "execution_count": 14,
     "metadata": {},
     "output_type": "execute_result"
    }
   ],
   "source": [
    "sample"
   ]
  },
  {
   "cell_type": "code",
   "execution_count": 15,
   "metadata": {},
   "outputs": [],
   "source": [
    "metrics = SingleTableMetric.get_subclasses()\n",
    "numeric_features = ['capital-gain','capital-loss','hours-per-week']\n",
    "discrete_columns = [\n",
    "    \"workclass\",\n",
    "    \"education\",\n",
    "    \"marital-status\",\n",
    "    \"occupation\",\n",
    "    \"relationship\",\n",
    "    \"race\",\n",
    "    \"sex\",\n",
    "    \"native-country\",\n",
    "    \"income\",\n",
    "]"
   ]
  },
  {
   "cell_type": "code",
   "execution_count": 16,
   "metadata": {},
   "outputs": [
    {
     "data": {
      "text/plain": [
       "{'BNLogLikelihood': bulian.metrics.single_table.bayesian_network.BNLogLikelihood,\n",
       " 'LogisticDetection': bulian.metrics.single_table.detection.sklearn.LogisticDetection,\n",
       " 'SVCDetection': bulian.metrics.single_table.detection.sklearn.SVCDetection,\n",
       " 'BinaryDecisionTreeClassifier': bulian.metrics.single_table.efficacy.binary.BinaryDecisionTreeClassifier,\n",
       " 'BinaryAdaBoostClassifier': bulian.metrics.single_table.efficacy.binary.BinaryAdaBoostClassifier,\n",
       " 'BinaryLogisticRegression': bulian.metrics.single_table.efficacy.binary.BinaryLogisticRegression,\n",
       " 'BinaryMLPClassifier': bulian.metrics.single_table.efficacy.binary.BinaryMLPClassifier,\n",
       " 'MulticlassDecisionTreeClassifier': bulian.metrics.single_table.efficacy.multiclass.MulticlassDecisionTreeClassifier,\n",
       " 'MulticlassMLPClassifier': bulian.metrics.single_table.efficacy.multiclass.MulticlassMLPClassifier,\n",
       " 'LinearRegression': bulian.metrics.single_table.efficacy.regression.LinearRegression,\n",
       " 'MLPRegressor': bulian.metrics.single_table.efficacy.regression.MLPRegressor,\n",
       " 'GMLogLikelihood': bulian.metrics.single_table.gaussian_mixture.GMLogLikelihood,\n",
       " 'CSTest': bulian.metrics.single_table.multi_single_column.CSTest,\n",
       " 'KSTest': bulian.metrics.single_table.multi_single_column.KSTest,\n",
       " 'KSTestExtended': bulian.metrics.single_table.multi_single_column.KSTestExtended,\n",
       " 'CategoricalCAP': bulian.metrics.single_table.privacy.cap.CategoricalCAP,\n",
       " 'CategoricalZeroCAP': bulian.metrics.single_table.privacy.cap.CategoricalZeroCAP,\n",
       " 'CategoricalGeneralizedCAP': bulian.metrics.single_table.privacy.cap.CategoricalGeneralizedCAP,\n",
       " 'CategoricalNB': bulian.metrics.single_table.privacy.categorical_sklearn.CategoricalNB,\n",
       " 'CategoricalKNN': bulian.metrics.single_table.privacy.categorical_sklearn.CategoricalKNN,\n",
       " 'CategoricalRF': bulian.metrics.single_table.privacy.categorical_sklearn.CategoricalRF,\n",
       " 'CategoricalSVM': bulian.metrics.single_table.privacy.categorical_sklearn.CategoricalSVM,\n",
       " 'CategoricalEnsemble': bulian.metrics.single_table.privacy.ensemble.CategoricalEnsemble,\n",
       " 'NumericalLR': bulian.metrics.single_table.privacy.numerical_sklearn.NumericalLR,\n",
       " 'NumericalMLP': bulian.metrics.single_table.privacy.numerical_sklearn.NumericalMLP,\n",
       " 'NumericalSVR': bulian.metrics.single_table.privacy.numerical_sklearn.NumericalSVR,\n",
       " 'NumericalRadiusNearestNeighbor': bulian.metrics.single_table.privacy.radius_nearest_neighbor.NumericalRadiusNearestNeighbor,\n",
       " 'ContinuousKLDivergence': bulian.metrics.single_table.multi_column_pairs.ContinuousKLDivergence,\n",
       " 'DiscreteKLDivergence': bulian.metrics.single_table.multi_column_pairs.DiscreteKLDivergence}"
      ]
     },
     "execution_count": 16,
     "metadata": {},
     "output_type": "execute_result"
    }
   ],
   "source": [
    "metrics"
   ]
  },
  {
   "cell_type": "code",
   "execution_count": 17,
   "metadata": {},
   "outputs": [
    {
     "data": {
      "text/html": [
       "<div>\n",
       "<style scoped>\n",
       "    .dataframe tbody tr th:only-of-type {\n",
       "        vertical-align: middle;\n",
       "    }\n",
       "\n",
       "    .dataframe tbody tr th {\n",
       "        vertical-align: top;\n",
       "    }\n",
       "\n",
       "    .dataframe thead th {\n",
       "        text-align: right;\n",
       "    }\n",
       "</style>\n",
       "<table border=\"1\" class=\"dataframe\">\n",
       "  <thead>\n",
       "    <tr style=\"text-align: right;\">\n",
       "      <th></th>\n",
       "      <th>metric</th>\n",
       "      <th>name</th>\n",
       "      <th>raw_score</th>\n",
       "      <th>normalized_score</th>\n",
       "      <th>min_value</th>\n",
       "      <th>max_value</th>\n",
       "      <th>goal</th>\n",
       "      <th>MetricType</th>\n",
       "      <th>error</th>\n",
       "    </tr>\n",
       "  </thead>\n",
       "  <tbody>\n",
       "    <tr>\n",
       "      <th>0</th>\n",
       "      <td>BNLogLikelihood</td>\n",
       "      <td>BayesianNetwork Log Likelihood</td>\n",
       "      <td>-1.378710e+01</td>\n",
       "      <td>0.000001</td>\n",
       "      <td>-inf</td>\n",
       "      <td>0.0</td>\n",
       "      <td>MAXIMIZE</td>\n",
       "      <td>Likelihood Metric</td>\n",
       "      <td>None</td>\n",
       "    </tr>\n",
       "    <tr>\n",
       "      <th>1</th>\n",
       "      <td>LogisticDetection</td>\n",
       "      <td>LogisticRegression Detection</td>\n",
       "      <td>6.802358e-01</td>\n",
       "      <td>0.680236</td>\n",
       "      <td>0.0</td>\n",
       "      <td>1.0</td>\n",
       "      <td>MAXIMIZE</td>\n",
       "      <td>Real vs Synthetic Dectection Metric</td>\n",
       "      <td>None</td>\n",
       "    </tr>\n",
       "    <tr>\n",
       "      <th>2</th>\n",
       "      <td>SVCDetection</td>\n",
       "      <td>SVC Detection</td>\n",
       "      <td>7.875496e-01</td>\n",
       "      <td>0.787550</td>\n",
       "      <td>0.0</td>\n",
       "      <td>1.0</td>\n",
       "      <td>MAXIMIZE</td>\n",
       "      <td>Real vs Synthetic Dectection Metric</td>\n",
       "      <td>None</td>\n",
       "    </tr>\n",
       "    <tr>\n",
       "      <th>3</th>\n",
       "      <td>BinaryDecisionTreeClassifier</td>\n",
       "      <td>None</td>\n",
       "      <td>NaN</td>\n",
       "      <td>NaN</td>\n",
       "      <td>0.0</td>\n",
       "      <td>1.0</td>\n",
       "      <td>MAXIMIZE</td>\n",
       "      <td>ML Efficacy Metric: R-Sq or F1</td>\n",
       "      <td>`target` must be passed either directly or ins...</td>\n",
       "    </tr>\n",
       "    <tr>\n",
       "      <th>4</th>\n",
       "      <td>BinaryAdaBoostClassifier</td>\n",
       "      <td>None</td>\n",
       "      <td>NaN</td>\n",
       "      <td>NaN</td>\n",
       "      <td>0.0</td>\n",
       "      <td>1.0</td>\n",
       "      <td>MAXIMIZE</td>\n",
       "      <td>ML Efficacy Metric: R-Sq or F1</td>\n",
       "      <td>`target` must be passed either directly or ins...</td>\n",
       "    </tr>\n",
       "    <tr>\n",
       "      <th>5</th>\n",
       "      <td>BinaryLogisticRegression</td>\n",
       "      <td>None</td>\n",
       "      <td>NaN</td>\n",
       "      <td>NaN</td>\n",
       "      <td>0.0</td>\n",
       "      <td>1.0</td>\n",
       "      <td>MAXIMIZE</td>\n",
       "      <td>ML Efficacy Metric: R-Sq or F1</td>\n",
       "      <td>`target` must be passed either directly or ins...</td>\n",
       "    </tr>\n",
       "    <tr>\n",
       "      <th>6</th>\n",
       "      <td>BinaryMLPClassifier</td>\n",
       "      <td>None</td>\n",
       "      <td>NaN</td>\n",
       "      <td>NaN</td>\n",
       "      <td>0.0</td>\n",
       "      <td>1.0</td>\n",
       "      <td>MAXIMIZE</td>\n",
       "      <td>ML Efficacy Metric: R-Sq or F1</td>\n",
       "      <td>`target` must be passed either directly or ins...</td>\n",
       "    </tr>\n",
       "    <tr>\n",
       "      <th>7</th>\n",
       "      <td>MulticlassDecisionTreeClassifier</td>\n",
       "      <td>None</td>\n",
       "      <td>NaN</td>\n",
       "      <td>NaN</td>\n",
       "      <td>0.0</td>\n",
       "      <td>1.0</td>\n",
       "      <td>MAXIMIZE</td>\n",
       "      <td>ML Efficacy Metric: R-Sq or F1</td>\n",
       "      <td>`target` must be passed either directly or ins...</td>\n",
       "    </tr>\n",
       "    <tr>\n",
       "      <th>8</th>\n",
       "      <td>MulticlassMLPClassifier</td>\n",
       "      <td>None</td>\n",
       "      <td>NaN</td>\n",
       "      <td>NaN</td>\n",
       "      <td>0.0</td>\n",
       "      <td>1.0</td>\n",
       "      <td>MAXIMIZE</td>\n",
       "      <td>ML Efficacy Metric: R-Sq or F1</td>\n",
       "      <td>`target` must be passed either directly or ins...</td>\n",
       "    </tr>\n",
       "    <tr>\n",
       "      <th>9</th>\n",
       "      <td>LinearRegression</td>\n",
       "      <td>None</td>\n",
       "      <td>NaN</td>\n",
       "      <td>NaN</td>\n",
       "      <td>-inf</td>\n",
       "      <td>1.0</td>\n",
       "      <td>MAXIMIZE</td>\n",
       "      <td>ML Efficacy Metric: R-Sq or F1</td>\n",
       "      <td>`target` must be passed either directly or ins...</td>\n",
       "    </tr>\n",
       "    <tr>\n",
       "      <th>10</th>\n",
       "      <td>MLPRegressor</td>\n",
       "      <td>None</td>\n",
       "      <td>NaN</td>\n",
       "      <td>NaN</td>\n",
       "      <td>-inf</td>\n",
       "      <td>1.0</td>\n",
       "      <td>MAXIMIZE</td>\n",
       "      <td>ML Efficacy Metric: R-Sq or F1</td>\n",
       "      <td>`target` must be passed either directly or ins...</td>\n",
       "    </tr>\n",
       "    <tr>\n",
       "      <th>11</th>\n",
       "      <td>GMLogLikelihood</td>\n",
       "      <td>GaussianMixture Log Likelihood</td>\n",
       "      <td>-3.437871e+09</td>\n",
       "      <td>0.000000</td>\n",
       "      <td>-inf</td>\n",
       "      <td>inf</td>\n",
       "      <td>MAXIMIZE</td>\n",
       "      <td>Likelihood Metric</td>\n",
       "      <td>None</td>\n",
       "    </tr>\n",
       "    <tr>\n",
       "      <th>12</th>\n",
       "      <td>CSTest</td>\n",
       "      <td>Chi-Squared</td>\n",
       "      <td>9.916436e-01</td>\n",
       "      <td>0.991644</td>\n",
       "      <td>0.0</td>\n",
       "      <td>1.0</td>\n",
       "      <td>MAXIMIZE</td>\n",
       "      <td>Statistical Test Metric</td>\n",
       "      <td>None</td>\n",
       "    </tr>\n",
       "    <tr>\n",
       "      <th>13</th>\n",
       "      <td>KSTest</td>\n",
       "      <td>Inverted Kolmogorov-Smirnov D statistic</td>\n",
       "      <td>7.745794e-01</td>\n",
       "      <td>0.774579</td>\n",
       "      <td>0.0</td>\n",
       "      <td>1.0</td>\n",
       "      <td>MAXIMIZE</td>\n",
       "      <td>Statistical Test Metric</td>\n",
       "      <td>None</td>\n",
       "    </tr>\n",
       "    <tr>\n",
       "      <th>14</th>\n",
       "      <td>KSTestExtended</td>\n",
       "      <td>Inverted Kolmogorov-Smirnov D statistic</td>\n",
       "      <td>8.545803e-01</td>\n",
       "      <td>0.854580</td>\n",
       "      <td>0.0</td>\n",
       "      <td>1.0</td>\n",
       "      <td>MAXIMIZE</td>\n",
       "      <td>Statistical Test Metric</td>\n",
       "      <td>None</td>\n",
       "    </tr>\n",
       "    <tr>\n",
       "      <th>15</th>\n",
       "      <td>CategoricalCAP</td>\n",
       "      <td>CategoricalCAP</td>\n",
       "      <td>NaN</td>\n",
       "      <td>NaN</td>\n",
       "      <td>0.0</td>\n",
       "      <td>1.0</td>\n",
       "      <td>MAXIMIZE</td>\n",
       "      <td>Privacy Metric</td>\n",
       "      <td>`key_fields` must be passed either directly or...</td>\n",
       "    </tr>\n",
       "    <tr>\n",
       "      <th>16</th>\n",
       "      <td>CategoricalZeroCAP</td>\n",
       "      <td>0CAP</td>\n",
       "      <td>NaN</td>\n",
       "      <td>NaN</td>\n",
       "      <td>0.0</td>\n",
       "      <td>1.0</td>\n",
       "      <td>MAXIMIZE</td>\n",
       "      <td>Privacy Metric</td>\n",
       "      <td>`key_fields` must be passed either directly or...</td>\n",
       "    </tr>\n",
       "    <tr>\n",
       "      <th>17</th>\n",
       "      <td>CategoricalGeneralizedCAP</td>\n",
       "      <td>Categorical GeneralizedCAP</td>\n",
       "      <td>NaN</td>\n",
       "      <td>NaN</td>\n",
       "      <td>0.0</td>\n",
       "      <td>1.0</td>\n",
       "      <td>MAXIMIZE</td>\n",
       "      <td>Privacy Metric</td>\n",
       "      <td>`key_fields` must be passed either directly or...</td>\n",
       "    </tr>\n",
       "    <tr>\n",
       "      <th>18</th>\n",
       "      <td>CategoricalNB</td>\n",
       "      <td>Categorical NaiveBayesian</td>\n",
       "      <td>NaN</td>\n",
       "      <td>NaN</td>\n",
       "      <td>0.0</td>\n",
       "      <td>1.0</td>\n",
       "      <td>MAXIMIZE</td>\n",
       "      <td>Privacy Metric</td>\n",
       "      <td>`key_fields` must be passed either directly or...</td>\n",
       "    </tr>\n",
       "    <tr>\n",
       "      <th>19</th>\n",
       "      <td>CategoricalKNN</td>\n",
       "      <td>K-Nearest Neighbors</td>\n",
       "      <td>NaN</td>\n",
       "      <td>NaN</td>\n",
       "      <td>0.0</td>\n",
       "      <td>1.0</td>\n",
       "      <td>MAXIMIZE</td>\n",
       "      <td>Privacy Metric</td>\n",
       "      <td>`key_fields` must be passed either directly or...</td>\n",
       "    </tr>\n",
       "    <tr>\n",
       "      <th>20</th>\n",
       "      <td>CategoricalRF</td>\n",
       "      <td>Categorical Random Forest</td>\n",
       "      <td>NaN</td>\n",
       "      <td>NaN</td>\n",
       "      <td>0.0</td>\n",
       "      <td>1.0</td>\n",
       "      <td>MAXIMIZE</td>\n",
       "      <td>Privacy Metric</td>\n",
       "      <td>`key_fields` must be passed either directly or...</td>\n",
       "    </tr>\n",
       "    <tr>\n",
       "      <th>21</th>\n",
       "      <td>CategoricalSVM</td>\n",
       "      <td>Support Vector Classifier</td>\n",
       "      <td>NaN</td>\n",
       "      <td>NaN</td>\n",
       "      <td>0.0</td>\n",
       "      <td>1.0</td>\n",
       "      <td>MAXIMIZE</td>\n",
       "      <td>Privacy Metric</td>\n",
       "      <td>`key_fields` must be passed either directly or...</td>\n",
       "    </tr>\n",
       "    <tr>\n",
       "      <th>22</th>\n",
       "      <td>CategoricalEnsemble</td>\n",
       "      <td>Ensemble</td>\n",
       "      <td>NaN</td>\n",
       "      <td>NaN</td>\n",
       "      <td>0.0</td>\n",
       "      <td>1.0</td>\n",
       "      <td>MAXIMIZE</td>\n",
       "      <td>Privacy Metric</td>\n",
       "      <td>'&lt;' not supported between instances of 'float'...</td>\n",
       "    </tr>\n",
       "    <tr>\n",
       "      <th>23</th>\n",
       "      <td>NumericalLR</td>\n",
       "      <td>Numerical Linear Regression</td>\n",
       "      <td>NaN</td>\n",
       "      <td>NaN</td>\n",
       "      <td>0.0</td>\n",
       "      <td>inf</td>\n",
       "      <td>MAXIMIZE</td>\n",
       "      <td>Privacy Metric</td>\n",
       "      <td>`key_fields` must be passed either directly or...</td>\n",
       "    </tr>\n",
       "    <tr>\n",
       "      <th>24</th>\n",
       "      <td>NumericalMLP</td>\n",
       "      <td>Multi-layer Perceptron Regression</td>\n",
       "      <td>NaN</td>\n",
       "      <td>NaN</td>\n",
       "      <td>0.0</td>\n",
       "      <td>inf</td>\n",
       "      <td>MAXIMIZE</td>\n",
       "      <td>Privacy Metric</td>\n",
       "      <td>`key_fields` must be passed either directly or...</td>\n",
       "    </tr>\n",
       "    <tr>\n",
       "      <th>25</th>\n",
       "      <td>NumericalSVR</td>\n",
       "      <td>Numerical Support-vector Regression</td>\n",
       "      <td>NaN</td>\n",
       "      <td>NaN</td>\n",
       "      <td>0.0</td>\n",
       "      <td>inf</td>\n",
       "      <td>MAXIMIZE</td>\n",
       "      <td>Privacy Metric</td>\n",
       "      <td>`key_fields` must be passed either directly or...</td>\n",
       "    </tr>\n",
       "    <tr>\n",
       "      <th>26</th>\n",
       "      <td>NumericalRadiusNearestNeighbor</td>\n",
       "      <td>Numerical Radius Nearest Neighbor</td>\n",
       "      <td>NaN</td>\n",
       "      <td>NaN</td>\n",
       "      <td>0.0</td>\n",
       "      <td>inf</td>\n",
       "      <td>MAXIMIZE</td>\n",
       "      <td>Privacy Metric</td>\n",
       "      <td>`key_fields` must be passed either directly or...</td>\n",
       "    </tr>\n",
       "    <tr>\n",
       "      <th>27</th>\n",
       "      <td>ContinuousKLDivergence</td>\n",
       "      <td>Continuous Kullback–Leibler Divergence</td>\n",
       "      <td>9.183353e-01</td>\n",
       "      <td>0.918335</td>\n",
       "      <td>0.0</td>\n",
       "      <td>1.0</td>\n",
       "      <td>MAXIMIZE</td>\n",
       "      <td>Distribution Similarity Metric</td>\n",
       "      <td>None</td>\n",
       "    </tr>\n",
       "    <tr>\n",
       "      <th>28</th>\n",
       "      <td>DiscreteKLDivergence</td>\n",
       "      <td>Discrete Kullback–Leibler Divergence</td>\n",
       "      <td>7.665703e-01</td>\n",
       "      <td>0.766570</td>\n",
       "      <td>0.0</td>\n",
       "      <td>1.0</td>\n",
       "      <td>MAXIMIZE</td>\n",
       "      <td>Distribution Similarity Metric</td>\n",
       "      <td>None</td>\n",
       "    </tr>\n",
       "  </tbody>\n",
       "</table>\n",
       "</div>"
      ],
      "text/plain": [
       "                              metric                                     name  \\\n",
       "0                    BNLogLikelihood           BayesianNetwork Log Likelihood   \n",
       "1                  LogisticDetection             LogisticRegression Detection   \n",
       "2                       SVCDetection                            SVC Detection   \n",
       "3       BinaryDecisionTreeClassifier                                     None   \n",
       "4           BinaryAdaBoostClassifier                                     None   \n",
       "5           BinaryLogisticRegression                                     None   \n",
       "6                BinaryMLPClassifier                                     None   \n",
       "7   MulticlassDecisionTreeClassifier                                     None   \n",
       "8            MulticlassMLPClassifier                                     None   \n",
       "9                   LinearRegression                                     None   \n",
       "10                      MLPRegressor                                     None   \n",
       "11                   GMLogLikelihood           GaussianMixture Log Likelihood   \n",
       "12                            CSTest                              Chi-Squared   \n",
       "13                            KSTest  Inverted Kolmogorov-Smirnov D statistic   \n",
       "14                    KSTestExtended  Inverted Kolmogorov-Smirnov D statistic   \n",
       "15                    CategoricalCAP                           CategoricalCAP   \n",
       "16                CategoricalZeroCAP                                     0CAP   \n",
       "17         CategoricalGeneralizedCAP               Categorical GeneralizedCAP   \n",
       "18                     CategoricalNB                Categorical NaiveBayesian   \n",
       "19                    CategoricalKNN                      K-Nearest Neighbors   \n",
       "20                     CategoricalRF                Categorical Random Forest   \n",
       "21                    CategoricalSVM                Support Vector Classifier   \n",
       "22               CategoricalEnsemble                                 Ensemble   \n",
       "23                       NumericalLR              Numerical Linear Regression   \n",
       "24                      NumericalMLP        Multi-layer Perceptron Regression   \n",
       "25                      NumericalSVR      Numerical Support-vector Regression   \n",
       "26    NumericalRadiusNearestNeighbor        Numerical Radius Nearest Neighbor   \n",
       "27            ContinuousKLDivergence   Continuous Kullback–Leibler Divergence   \n",
       "28              DiscreteKLDivergence     Discrete Kullback–Leibler Divergence   \n",
       "\n",
       "       raw_score  normalized_score  min_value  max_value      goal  \\\n",
       "0  -1.378710e+01          0.000001       -inf        0.0  MAXIMIZE   \n",
       "1   6.802358e-01          0.680236        0.0        1.0  MAXIMIZE   \n",
       "2   7.875496e-01          0.787550        0.0        1.0  MAXIMIZE   \n",
       "3            NaN               NaN        0.0        1.0  MAXIMIZE   \n",
       "4            NaN               NaN        0.0        1.0  MAXIMIZE   \n",
       "5            NaN               NaN        0.0        1.0  MAXIMIZE   \n",
       "6            NaN               NaN        0.0        1.0  MAXIMIZE   \n",
       "7            NaN               NaN        0.0        1.0  MAXIMIZE   \n",
       "8            NaN               NaN        0.0        1.0  MAXIMIZE   \n",
       "9            NaN               NaN       -inf        1.0  MAXIMIZE   \n",
       "10           NaN               NaN       -inf        1.0  MAXIMIZE   \n",
       "11 -3.437871e+09          0.000000       -inf        inf  MAXIMIZE   \n",
       "12  9.916436e-01          0.991644        0.0        1.0  MAXIMIZE   \n",
       "13  7.745794e-01          0.774579        0.0        1.0  MAXIMIZE   \n",
       "14  8.545803e-01          0.854580        0.0        1.0  MAXIMIZE   \n",
       "15           NaN               NaN        0.0        1.0  MAXIMIZE   \n",
       "16           NaN               NaN        0.0        1.0  MAXIMIZE   \n",
       "17           NaN               NaN        0.0        1.0  MAXIMIZE   \n",
       "18           NaN               NaN        0.0        1.0  MAXIMIZE   \n",
       "19           NaN               NaN        0.0        1.0  MAXIMIZE   \n",
       "20           NaN               NaN        0.0        1.0  MAXIMIZE   \n",
       "21           NaN               NaN        0.0        1.0  MAXIMIZE   \n",
       "22           NaN               NaN        0.0        1.0  MAXIMIZE   \n",
       "23           NaN               NaN        0.0        inf  MAXIMIZE   \n",
       "24           NaN               NaN        0.0        inf  MAXIMIZE   \n",
       "25           NaN               NaN        0.0        inf  MAXIMIZE   \n",
       "26           NaN               NaN        0.0        inf  MAXIMIZE   \n",
       "27  9.183353e-01          0.918335        0.0        1.0  MAXIMIZE   \n",
       "28  7.665703e-01          0.766570        0.0        1.0  MAXIMIZE   \n",
       "\n",
       "                             MetricType  \\\n",
       "0                     Likelihood Metric   \n",
       "1   Real vs Synthetic Dectection Metric   \n",
       "2   Real vs Synthetic Dectection Metric   \n",
       "3        ML Efficacy Metric: R-Sq or F1   \n",
       "4        ML Efficacy Metric: R-Sq or F1   \n",
       "5        ML Efficacy Metric: R-Sq or F1   \n",
       "6        ML Efficacy Metric: R-Sq or F1   \n",
       "7        ML Efficacy Metric: R-Sq or F1   \n",
       "8        ML Efficacy Metric: R-Sq or F1   \n",
       "9        ML Efficacy Metric: R-Sq or F1   \n",
       "10       ML Efficacy Metric: R-Sq or F1   \n",
       "11                    Likelihood Metric   \n",
       "12              Statistical Test Metric   \n",
       "13              Statistical Test Metric   \n",
       "14              Statistical Test Metric   \n",
       "15                       Privacy Metric   \n",
       "16                       Privacy Metric   \n",
       "17                       Privacy Metric   \n",
       "18                       Privacy Metric   \n",
       "19                       Privacy Metric   \n",
       "20                       Privacy Metric   \n",
       "21                       Privacy Metric   \n",
       "22                       Privacy Metric   \n",
       "23                       Privacy Metric   \n",
       "24                       Privacy Metric   \n",
       "25                       Privacy Metric   \n",
       "26                       Privacy Metric   \n",
       "27       Distribution Similarity Metric   \n",
       "28       Distribution Similarity Metric   \n",
       "\n",
       "                                                error  \n",
       "0                                                None  \n",
       "1                                                None  \n",
       "2                                                None  \n",
       "3   `target` must be passed either directly or ins...  \n",
       "4   `target` must be passed either directly or ins...  \n",
       "5   `target` must be passed either directly or ins...  \n",
       "6   `target` must be passed either directly or ins...  \n",
       "7   `target` must be passed either directly or ins...  \n",
       "8   `target` must be passed either directly or ins...  \n",
       "9   `target` must be passed either directly or ins...  \n",
       "10  `target` must be passed either directly or ins...  \n",
       "11                                               None  \n",
       "12                                               None  \n",
       "13                                               None  \n",
       "14                                               None  \n",
       "15  `key_fields` must be passed either directly or...  \n",
       "16  `key_fields` must be passed either directly or...  \n",
       "17  `key_fields` must be passed either directly or...  \n",
       "18  `key_fields` must be passed either directly or...  \n",
       "19  `key_fields` must be passed either directly or...  \n",
       "20  `key_fields` must be passed either directly or...  \n",
       "21  `key_fields` must be passed either directly or...  \n",
       "22  '<' not supported between instances of 'float'...  \n",
       "23  `key_fields` must be passed either directly or...  \n",
       "24  `key_fields` must be passed either directly or...  \n",
       "25  `key_fields` must be passed either directly or...  \n",
       "26  `key_fields` must be passed either directly or...  \n",
       "27                                               None  \n",
       "28                                               None  "
      ]
     },
     "execution_count": 17,
     "metadata": {},
     "output_type": "execute_result"
    }
   ],
   "source": [
    "compute_metrics(metrics,data, sample)"
   ]
  },
  {
   "cell_type": "markdown",
   "metadata": {},
   "source": [
    "#### Report with privacy metrics"
   ]
  },
  {
   "cell_type": "code",
   "execution_count": 18,
   "metadata": {},
   "outputs": [
    {
     "name": "stderr",
     "output_type": "stream",
     "text": [
      " * Running on http://127.0.0.1:8050 (Press CTRL+C to quit)\n",
      "127.0.0.1 - - [29/Jul/2022 14:18:21] \"GET /_alive_473bb191-a133-4208-ac73-91bac858b93a HTTP/1.1\" 200 -\n"
     ]
    },
    {
     "name": "stdout",
     "output_type": "stream",
     "text": [
      "Dash app running on http://127.0.0.1:8050/\n"
     ]
    }
   ],
   "source": [
    "get_full_report(data, sample,discrete_columns,numeric_features, key_fields=['age','workclass','education'],sensitive_fields = ['income'])"
   ]
  },
  {
   "cell_type": "markdown",
   "metadata": {},
   "source": [
    "#### Report without privacy metrics, but includes ML efficacy stuff"
   ]
  },
  {
   "cell_type": "code",
   "execution_count": null,
   "metadata": {},
   "outputs": [],
   "source": [
    "get_full_report(data, sample,discrete_columns,numeric_features,target='income')"
   ]
  },
  {
   "cell_type": "markdown",
   "metadata": {},
   "source": [
    "#### Report without privacy metrics and without ML efficacy stuff"
   ]
  },
  {
   "cell_type": "code",
   "execution_count": null,
   "metadata": {},
   "outputs": [],
   "source": [
    "get_full_report(data, sample,discrete_columns,numeric_features)"
   ]
  },
  {
   "cell_type": "markdown",
   "metadata": {},
   "source": [
    "#### Save model to disk"
   ]
  },
  {
   "cell_type": "code",
   "execution_count": null,
   "metadata": {},
   "outputs": [],
   "source": [
    "synth.save('NormalAPI.pth')"
   ]
  },
  {
   "cell_type": "markdown",
   "metadata": {},
   "source": [
    "#### "
   ]
  },
  {
   "cell_type": "markdown",
   "metadata": {},
   "source": [
    "## Adversarial API: Non-privately differentiable synthesizer"
   ]
  },
  {
   "cell_type": "code",
   "execution_count": null,
   "metadata": {},
   "outputs": [],
   "source": [
    "synth = TwinSynthesizer(batch_size=200,device='cpu')   ### cpu else cuda"
   ]
  },
  {
   "cell_type": "code",
   "execution_count": null,
   "metadata": {
    "scrolled": true
   },
   "outputs": [],
   "source": [
    "synth.fit_adversarial(data=data,epochs=2,discrete_columns=discrete_columns,test_pct=0.33)"
   ]
  },
  {
   "cell_type": "code",
   "execution_count": null,
   "metadata": {
    "scrolled": false
   },
   "outputs": [],
   "source": [
    "sample = synth.sample_adversarial(data,1000)"
   ]
  },
  {
   "cell_type": "code",
   "execution_count": null,
   "metadata": {},
   "outputs": [],
   "source": [
    "metrics = SingleTableMetric.get_subclasses()\n",
    "numeric_features = ['capital-gain','capital-loss','hours-per-week']\n",
    "discrete_columns = [\n",
    "    \"workclass\",\n",
    "    \"education\",\n",
    "    \"marital-status\",\n",
    "    \"occupation\",\n",
    "    \"relationship\",\n",
    "    \"race\",\n",
    "    \"sex\",\n",
    "    \"native-country\",\n",
    "    \"income\",\n",
    "]"
   ]
  },
  {
   "cell_type": "markdown",
   "metadata": {},
   "source": [
    "#### Report with privacy metrics"
   ]
  },
  {
   "cell_type": "code",
   "execution_count": null,
   "metadata": {},
   "outputs": [],
   "source": [
    "get_full_report(data, sample,discrete_columns,numeric_features, key_fields=['age','workclass','education'],sensitive_fields = ['income'])"
   ]
  },
  {
   "cell_type": "markdown",
   "metadata": {},
   "source": [
    "#### Report without privacy metrics, but includes ML efficacy stuff"
   ]
  },
  {
   "cell_type": "code",
   "execution_count": null,
   "metadata": {},
   "outputs": [],
   "source": [
    "get_full_report(data, sample,discrete_columns,numeric_features,target='income')"
   ]
  },
  {
   "cell_type": "markdown",
   "metadata": {},
   "source": [
    "#### Report without privacy metrics and without ML efficacy stuff"
   ]
  },
  {
   "cell_type": "code",
   "execution_count": null,
   "metadata": {},
   "outputs": [],
   "source": [
    "get_full_report(data, sample,discrete_columns,numeric_features)"
   ]
  },
  {
   "cell_type": "markdown",
   "metadata": {},
   "source": [
    "#### Save model to disk"
   ]
  },
  {
   "cell_type": "code",
   "execution_count": null,
   "metadata": {},
   "outputs": [],
   "source": [
    "synth.save('F:/Users/Kaggle/wids/AdversarialAPI.pth')"
   ]
  },
  {
   "cell_type": "markdown",
   "metadata": {},
   "source": [
    "#### "
   ]
  },
  {
   "cell_type": "markdown",
   "metadata": {},
   "source": [
    "## Normal API: Privately differentiable synthesizer"
   ]
  },
  {
   "cell_type": "code",
   "execution_count": null,
   "metadata": {},
   "outputs": [],
   "source": [
    "synth = PrivateTwinSynthesizer(epsilon=0.1,batch_size=64,device='cpu')   ### cpu else cuda"
   ]
  },
  {
   "cell_type": "code",
   "execution_count": null,
   "metadata": {
    "scrolled": true
   },
   "outputs": [],
   "source": [
    "synth.fit(data=data,discrete_columns=discrete_columns,update_epsilon=1)"
   ]
  },
  {
   "cell_type": "code",
   "execution_count": null,
   "metadata": {},
   "outputs": [],
   "source": [
    "sample = synth.sample(1000)"
   ]
  },
  {
   "cell_type": "code",
   "execution_count": null,
   "metadata": {},
   "outputs": [],
   "source": [
    "metrics = SingleTableMetric.get_subclasses()\n",
    "numeric_features = ['capital-gain','capital-loss','hours-per-week']\n",
    "discrete_columns = [\n",
    "    \"workclass\",\n",
    "    \"education\",\n",
    "    \"marital-status\",\n",
    "    \"occupation\",\n",
    "    \"relationship\",\n",
    "    \"race\",\n",
    "    \"sex\",\n",
    "    \"native-country\",\n",
    "    \"income\",\n",
    "]"
   ]
  },
  {
   "cell_type": "markdown",
   "metadata": {},
   "source": [
    "#### Report with privacy metrics"
   ]
  },
  {
   "cell_type": "code",
   "execution_count": null,
   "metadata": {},
   "outputs": [],
   "source": [
    "get_full_report(data, sample,discrete_columns,numeric_features, key_fields=['age','workclass','education'],sensitive_fields = ['income'])"
   ]
  },
  {
   "cell_type": "markdown",
   "metadata": {},
   "source": [
    "#### Report without privacy metrics, but includes ML efficacy stuff"
   ]
  },
  {
   "cell_type": "code",
   "execution_count": null,
   "metadata": {},
   "outputs": [],
   "source": [
    "get_full_report(data, sample,discrete_columns,numeric_features,target='income')"
   ]
  },
  {
   "cell_type": "markdown",
   "metadata": {},
   "source": [
    "#### Report without privacy metrics and without ML efficacy stuff"
   ]
  },
  {
   "cell_type": "code",
   "execution_count": null,
   "metadata": {},
   "outputs": [],
   "source": [
    "get_full_report(data, sample,discrete_columns,numeric_features)"
   ]
  },
  {
   "cell_type": "markdown",
   "metadata": {},
   "source": [
    "#### Save model to disk"
   ]
  },
  {
   "cell_type": "code",
   "execution_count": null,
   "metadata": {},
   "outputs": [],
   "source": [
    "synth.save('PrivateModelNormalAPI.pth')"
   ]
  },
  {
   "cell_type": "markdown",
   "metadata": {},
   "source": [
    "#### "
   ]
  },
  {
   "cell_type": "markdown",
   "metadata": {},
   "source": [
    "## Adversarial API: Privately differentiable synthesizer"
   ]
  },
  {
   "cell_type": "code",
   "execution_count": null,
   "metadata": {},
   "outputs": [],
   "source": [
    "synth = PrivateTwinSynthesizer(epsilon=0.1,batch_size=64,device='cpu')   ### cpu else cuda"
   ]
  },
  {
   "cell_type": "code",
   "execution_count": null,
   "metadata": {
    "scrolled": true
   },
   "outputs": [],
   "source": [
    "synth.fit_adversarial(data=data,discrete_columns=discrete_columns,update_epsilon=1)"
   ]
  },
  {
   "cell_type": "code",
   "execution_count": null,
   "metadata": {
    "scrolled": true
   },
   "outputs": [],
   "source": [
    "sample = synth.sample_adversarial(data,1000)"
   ]
  },
  {
   "cell_type": "code",
   "execution_count": null,
   "metadata": {},
   "outputs": [],
   "source": [
    "metrics = SingleTableMetric.get_subclasses()\n",
    "numeric_features = ['capital-gain','capital-loss','hours-per-week']\n",
    "discrete_columns = [\n",
    "    \"workclass\",\n",
    "    \"education\",\n",
    "    \"marital-status\",\n",
    "    \"occupation\",\n",
    "    \"relationship\",\n",
    "    \"race\",\n",
    "    \"sex\",\n",
    "    \"native-country\",\n",
    "    \"income\",\n",
    "]"
   ]
  },
  {
   "cell_type": "markdown",
   "metadata": {},
   "source": [
    "#### Report with privacy metrics"
   ]
  },
  {
   "cell_type": "code",
   "execution_count": null,
   "metadata": {},
   "outputs": [],
   "source": [
    "get_full_report(data, sample,discrete_columns,numeric_features, key_fields=['age','workclass','education'],sensitive_fields = ['income'])"
   ]
  },
  {
   "cell_type": "markdown",
   "metadata": {},
   "source": [
    "#### Report without privacy metrics, but includes ML efficacy stuff"
   ]
  },
  {
   "cell_type": "code",
   "execution_count": null,
   "metadata": {},
   "outputs": [],
   "source": [
    "get_full_report(data, sample,discrete_columns,numeric_features,target='income')"
   ]
  },
  {
   "cell_type": "markdown",
   "metadata": {},
   "source": [
    "#### Report without privacy metrics and without ML efficacy stuff"
   ]
  },
  {
   "cell_type": "code",
   "execution_count": null,
   "metadata": {},
   "outputs": [],
   "source": [
    "get_full_report(data, sample,discrete_columns,numeric_features)"
   ]
  },
  {
   "cell_type": "markdown",
   "metadata": {},
   "source": [
    "##### Generate Report on a Dashboard"
   ]
  },
  {
   "cell_type": "markdown",
   "metadata": {},
   "source": [
    "Reports can be viewed on a dashboard webpage by using the option boolean <b>show_dashboard</b> parameter on the <b>get_full_report</b> function. The dashboard is a Dash application which runs on a local server. You can also specify which port to use for the local server, by default the app would run on <b>8050</b>."
   ]
  },
  {
   "cell_type": "code",
   "execution_count": null,
   "metadata": {},
   "outputs": [],
   "source": [
    "get_full_report(\n",
    "    data,\n",
    "    sample,\n",
    "    discrete_columns,\n",
    "    numeric_features,\n",
    "    key_fields=['age','workclass','education'],\n",
    "    sensitive_fields = ['income'],\n",
    "    show_dashboard=True,\n",
    "    port=8050\n",
    ")"
   ]
  },
  {
   "cell_type": "markdown",
   "metadata": {},
   "source": [
    "#### Save model to disk"
   ]
  },
  {
   "cell_type": "code",
   "execution_count": null,
   "metadata": {},
   "outputs": [],
   "source": [
    "synth.save('PrivateModelAdvAPI.pth')"
   ]
  },
  {
   "cell_type": "markdown",
   "metadata": {},
   "source": [
    "#### "
   ]
  },
  {
   "cell_type": "markdown",
   "metadata": {},
   "source": [
    "### Fin ###"
   ]
  },
  {
   "cell_type": "code",
   "execution_count": null,
   "metadata": {},
   "outputs": [],
   "source": []
  }
 ],
 "metadata": {
  "kernelspec": {
   "display_name": "Python 3.8.10 64-bit",
   "language": "python",
   "name": "python3"
  },
  "language_info": {
   "codemirror_mode": {
    "name": "ipython",
    "version": 3
   },
   "file_extension": ".py",
   "mimetype": "text/x-python",
   "name": "python",
   "nbconvert_exporter": "python",
   "pygments_lexer": "ipython3",
   "version": "3.8.10"
  },
  "vscode": {
   "interpreter": {
    "hash": "916dbcbb3f70747c44a77c7bcd40155683ae19c65e1c03b4aa3499c5328201f1"
   }
  }
 },
 "nbformat": 4,
 "nbformat_minor": 2
}
