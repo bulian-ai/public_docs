{
 "cells": [
  {
   "cell_type": "markdown",
   "metadata": {},
   "source": [
    "## Relational Metadata Class \n",
    "This is a demo notebook to discover functionalities of the Metadata class for Relational Data Modelling. In Bulian, the structure of a dataset is represented using the class bulian.Metadata, which contains all the information that bulian needs in order to optimally learn the dataset and generate synthetic versions of it."
   ]
  },
  {
   "cell_type": "markdown",
   "metadata": {},
   "source": [
    "#### Import all the relevant packages"
   ]
  },
  {
   "cell_type": "code",
   "execution_count": null,
   "metadata": {},
   "outputs": [],
   "source": [
    "import os,sys\n",
    "import pandas as pd\n",
    "from bulian.metrics.demo import sample_relational_demo,load_demo\n",
    "from bulian.utils import display_tables\n",
    "from bulian.relational import HMA1"
   ]
  },
  {
   "cell_type": "markdown",
   "metadata": {},
   "source": [
    "#### Start by Loading Bulian Demo relational dataset"
   ]
  },
  {
   "cell_type": "code",
   "execution_count": 3,
   "metadata": {},
   "outputs": [],
   "source": [
    "tables = load_demo()"
   ]
  },
  {
   "cell_type": "markdown",
   "metadata": {},
   "source": [
    "##### The output of this function will be a dict that contains several tables as pandas.DataFrames."
   ]
  },
  {
   "cell_type": "code",
   "execution_count": 4,
   "metadata": {},
   "outputs": [
    {
     "data": {
      "text/plain": [
       "{'users':    user_id country gender  age\n",
       " 0        0      US      M   34\n",
       " 1        1      UK      F   23\n",
       " 2        2      ES   None   44\n",
       " 3        3      UK      M   22\n",
       " 4        4      US      F   54\n",
       " 5        5      DE      M   57\n",
       " 6        6      BG      F   45\n",
       " 7        7      ES   None   41\n",
       " 8        8      FR      F   23\n",
       " 9        9      UK   None   30,\n",
       " 'sessions':    session_id  user_id  device       os  minutes\n",
       " 0           0        0  mobile  android       23\n",
       " 1           1        1  tablet      ios       12\n",
       " 2           2        2  tablet  android        8\n",
       " 3           3        3  mobile  android       13\n",
       " 4           4        4  mobile      ios        9\n",
       " 5           5        5  mobile  android       32\n",
       " 6           6        6  mobile      ios        7\n",
       " 7           7        7  tablet      ios       21\n",
       " 8           8        8  mobile      ios       29\n",
       " 9           9        9  tablet      ios       34,\n",
       " 'transactions':    transaction_id  session_id           timestamp  amount  cancelled\n",
       " 0               0           0 2019-01-01 12:34:32   100.0      False\n",
       " 1               1           1 2019-01-01 12:42:21    55.3      False\n",
       " 2               2           2 2019-01-07 17:23:11    79.5      False\n",
       " 3               3           3 2019-01-10 11:08:57   112.1       True\n",
       " 4               4           4 2019-01-10 21:54:08   110.0       True\n",
       " 5               5           5 2019-01-11 11:21:20    76.3      False\n",
       " 6               6           6 2019-01-22 14:44:10    89.5      False\n",
       " 7               7           7 2019-01-23 10:14:09   132.1       True\n",
       " 8               8           8 2019-01-27 16:09:17    68.0      False\n",
       " 9               9           9 2019-01-29 12:10:48    99.9      False}"
      ]
     },
     "execution_count": 4,
     "metadata": {},
     "output_type": "execute_result"
    }
   ],
   "source": [
    "tables"
   ]
  },
  {
   "cell_type": "markdown",
   "metadata": {},
   "source": [
    "You can observe that this dataset has the following structure:\n",
    "\n",
    "- A users table with:\n",
    ">- A user_id field which acts as the table's primary key.\n",
    ">- Two categorical fields, country and gender, and an integer column age.\n",
    "\n",
    "- A sessions table with:\n",
    ">- A session_id field which acts as the table's primary key.\n",
    ">- A user_id field which is a foreign key to the users table and defines a One-to-Many relationship with it (one user can have many sessions).\n",
    ">- Two categorical fields device and os.\n",
    "\n",
    "- A transactions table with:\n",
    ">- A transaction_id field which acts as the table's primary key.\n",
    ">- A session_id field which is a foreign key to the sessions table and defines a One-to-Many relationship with it (one user can make many transactions within a single session).\n",
    ">- A datetime field, timestamp.\n",
    ">- A float field, amount.\n",
    ">- A boolean field, approved.\n",
    "\n",
    "Let us now see how to build a Metadata object that represents this dataset"
   ]
  },
  {
   "cell_type": "markdown",
   "metadata": {},
   "source": [
    "### The Metadata Class"
   ]
  },
  {
   "cell_type": "markdown",
   "metadata": {},
   "source": [
    "In order to create a Metadata for our dataset, you will first need to import the class and create an empty instance"
   ]
  },
  {
   "cell_type": "code",
   "execution_count": 5,
   "metadata": {},
   "outputs": [
    {
     "data": {
      "text/plain": [
       "Metadata\n",
       "  root_path: .\n",
       "  tables: []\n",
       "  relationships:"
      ]
     },
     "execution_count": 5,
     "metadata": {},
     "output_type": "execute_result"
    }
   ],
   "source": [
    "from bulian import Metadata\n",
    "\n",
    "metadata = Metadata()\n",
    "metadata"
   ]
  },
  {
   "cell_type": "markdown",
   "metadata": {},
   "source": [
    "### Add a Table"
   ]
  },
  {
   "cell_type": "markdown",
   "metadata": {},
   "source": [
    "Once you have your Metadata instance ready you can start adding tables.\n",
    "\n",
    "In this example, you will add the table users, which is the parent table of your dataset, indicating which is its Primary Key field, user_id.\n",
    "\n",
    "Note that indicating the Primary Key is optional and can be skipped if your table has none, but if a table does not have one, you will not be able to add any child tables to it."
   ]
  },
  {
   "cell_type": "code",
   "execution_count": 6,
   "metadata": {},
   "outputs": [],
   "source": [
    "metadata.add_table(\n",
    "        name='users',\n",
    "        data=tables['users'],\n",
    "        primary_key='user_id'\n",
    "    )"
   ]
  },
  {
   "cell_type": "markdown",
   "metadata": {},
   "source": [
    "At this point, our metadata only contains one table and, of course, no relationships:"
   ]
  },
  {
   "cell_type": "code",
   "execution_count": 7,
   "metadata": {},
   "outputs": [
    {
     "name": "stdout",
     "output_type": "stream",
     "text": [
      "Metadata\n",
      "  root_path: .\n",
      "  tables: ['users']\n",
      "  relationships:\n",
      "\n"
     ]
    }
   ],
   "source": [
    "print(metadata)"
   ]
  },
  {
   "cell_type": "markdown",
   "metadata": {},
   "source": [
    "However, the Metadata instance will have already analyzed all the columns in the passed table and identified the different data types and subtypes, and will properly indicate that the user_id column is the table primary key.\n",
    "\n",
    "You can see so by calling the visualize method of your metadata instance:"
   ]
  },
  {
   "cell_type": "code",
   "execution_count": 8,
   "metadata": {},
   "outputs": [
    {
     "data": {
      "image/svg+xml": "<?xml version=\"1.0\" encoding=\"UTF-8\" standalone=\"no\"?>\n<!DOCTYPE svg PUBLIC \"-//W3C//DTD SVG 1.1//EN\"\n \"http://www.w3.org/Graphics/SVG/1.1/DTD/svg11.dtd\">\n<!-- Generated by graphviz version 2.46.0 (20210118.1747)\n -->\n<!-- Title: Metadata Pages: 1 -->\n<svg width=\"156pt\" height=\"123pt\"\n viewBox=\"0.00 0.00 156.00 123.00\" xmlns=\"http://www.w3.org/2000/svg\" xmlns:xlink=\"http://www.w3.org/1999/xlink\">\n<g id=\"graph0\" class=\"graph\" transform=\"scale(1 1) rotate(0) translate(4 119)\">\n<title>Metadata</title>\n<polygon fill=\"white\" stroke=\"transparent\" points=\"-4,4 -4,-119 152,-119 152,4 -4,4\"/>\n<!-- users -->\n<g id=\"node1\" class=\"node\">\n<title>users</title>\n<path fill=\"#ffec8b\" stroke=\"black\" d=\"M12,-0.5C12,-0.5 136,-0.5 136,-0.5 142,-0.5 148,-6.5 148,-12.5 148,-12.5 148,-102.5 148,-102.5 148,-108.5 142,-114.5 136,-114.5 136,-114.5 12,-114.5 12,-114.5 6,-114.5 0,-108.5 0,-102.5 0,-102.5 0,-12.5 0,-12.5 0,-6.5 6,-0.5 12,-0.5\"/>\n<text text-anchor=\"middle\" x=\"74\" y=\"-99.3\" font-family=\"Times New Roman,serif\" font-size=\"14.00\">users</text>\n<polyline fill=\"none\" stroke=\"black\" points=\"0,-91.5 148,-91.5 \"/>\n<text text-anchor=\"start\" x=\"8\" y=\"-76.3\" font-family=\"Times New Roman,serif\" font-size=\"14.00\">user_id : id &#45; integer</text>\n<text text-anchor=\"start\" x=\"8\" y=\"-61.3\" font-family=\"Times New Roman,serif\" font-size=\"14.00\">country : categorical</text>\n<text text-anchor=\"start\" x=\"8\" y=\"-46.3\" font-family=\"Times New Roman,serif\" font-size=\"14.00\">gender : categorical</text>\n<text text-anchor=\"start\" x=\"8\" y=\"-31.3\" font-family=\"Times New Roman,serif\" font-size=\"14.00\">age : numerical &#45; integer</text>\n<polyline fill=\"none\" stroke=\"black\" points=\"0,-23.5 148,-23.5 \"/>\n<text text-anchor=\"start\" x=\"8\" y=\"-8.3\" font-family=\"Times New Roman,serif\" font-size=\"14.00\">Primary key: user_id</text>\n</g>\n</g>\n</svg>\n",
      "text/plain": [
       "<graphviz.graphs.Digraph at 0x2722b2d39d0>"
      ]
     },
     "execution_count": 8,
     "metadata": {},
     "output_type": "execute_result"
    }
   ],
   "source": [
    "metadata.visualize()"
   ]
  },
  {
   "cell_type": "markdown",
   "metadata": {},
   "source": [
    "Or you can obtain this information in a machine-readable format by calling the get_table_meta method:"
   ]
  },
  {
   "cell_type": "code",
   "execution_count": 9,
   "metadata": {},
   "outputs": [
    {
     "data": {
      "text/plain": [
       "{'fields': {'user_id': {'type': 'id', 'subtype': 'integer'},\n",
       "  'country': {'type': 'categorical'},\n",
       "  'gender': {'type': 'categorical'},\n",
       "  'age': {'type': 'numerical', 'subtype': 'integer'}},\n",
       " 'primary_key': 'user_id'}"
      ]
     },
     "execution_count": 9,
     "metadata": {},
     "output_type": "execute_result"
    }
   ],
   "source": [
    "metadata.get_table_meta('users')"
   ]
  },
  {
   "cell_type": "markdown",
   "metadata": {},
   "source": [
    "### Add a Child Table"
   ]
  },
  {
   "cell_type": "markdown",
   "metadata": {},
   "source": [
    "Now that you have one parent table, you will add its child table sessions, which is related to the users table in a parent-child relationship where each user can have multiple sessions, and each session belongs to one and only one user.\n",
    "\n",
    "In order to specify this, while creating the sessions table you have to indicate the name of the parent table, users, and the field from the sessions table that acts as the foreign key, which in this case is called user_id.\n",
    "\n",
    "With this, apart from analyzing all the columns and indicating the primary key like in the previous step, the Metadata instance will specify a relationship between the two tables by adding a property to the user_id field that indicates that it is related to the user_id field in the users table."
   ]
  },
  {
   "cell_type": "code",
   "execution_count": 10,
   "metadata": {},
   "outputs": [],
   "source": [
    "metadata.add_table(\n",
    "    name='sessions',\n",
    "    data=tables['sessions'],\n",
    "    primary_key='session_id',\n",
    "    parent='users',\n",
    "    foreign_key='user_id'\n",
    ")"
   ]
  },
  {
   "cell_type": "markdown",
   "metadata": {},
   "source": [
    "Now we can see how the table and the relationship have been registered:"
   ]
  },
  {
   "cell_type": "code",
   "execution_count": 11,
   "metadata": {},
   "outputs": [
    {
     "name": "stdout",
     "output_type": "stream",
     "text": [
      "Metadata\n",
      "  root_path: .\n",
      "  tables: ['users', 'sessions']\n",
      "  relationships:\n",
      "    sessions.user_id -> users.user_id\n"
     ]
    }
   ],
   "source": [
    "print(metadata)"
   ]
  },
  {
   "cell_type": "markdown",
   "metadata": {},
   "source": [
    "### Add a table specifying field properties"
   ]
  },
  {
   "cell_type": "markdown",
   "metadata": {},
   "source": [
    "There are situations where the Metadata analysis is not able to figure out some data types or subtypes, or to deduce some properties of the field such as the datetime format.\n",
    "\n",
    "In these situations, you can pass a dictionary with the exact metadata of those fields, which will overwrite the deductions from the analysis process.\n",
    "\n",
    "In this next example, you will be adding a transactions table, which is related to the previous sessions table, and contains a datetime field which needs to have the datetime format specified."
   ]
  },
  {
   "cell_type": "code",
   "execution_count": 12,
   "metadata": {},
   "outputs": [],
   "source": [
    "transactions_fields = {\n",
    "'timestamp': {\n",
    "    'type': 'datetime',\n",
    "    'format': '%Y-%m-%d'\n",
    "}\n",
    "}\n",
    "\n",
    "metadata.add_table(\n",
    "name='transactions',\n",
    "data=tables['transactions'],\n",
    "fields_metadata=transactions_fields,\n",
    "primary_key='transaction_id',\n",
    "parent='sessions'\n",
    ")"
   ]
  },
  {
   "cell_type": "code",
   "execution_count": 13,
   "metadata": {},
   "outputs": [
    {
     "data": {
      "text/plain": [
       "{'tables': {'users': {'fields': {'user_id': {'type': 'id',\n",
       "     'subtype': 'integer'},\n",
       "    'country': {'type': 'categorical'},\n",
       "    'gender': {'type': 'categorical'},\n",
       "    'age': {'type': 'numerical', 'subtype': 'integer'}},\n",
       "   'primary_key': 'user_id'},\n",
       "  'sessions': {'fields': {'session_id': {'type': 'id', 'subtype': 'integer'},\n",
       "    'user_id': {'type': 'id',\n",
       "     'subtype': 'integer',\n",
       "     'ref': {'table': 'users', 'field': 'user_id'}},\n",
       "    'device': {'type': 'categorical'},\n",
       "    'os': {'type': 'categorical'},\n",
       "    'minutes': {'type': 'numerical', 'subtype': 'integer'}},\n",
       "   'primary_key': 'session_id'},\n",
       "  'transactions': {'fields': {'timestamp': {'type': 'datetime',\n",
       "     'format': '%Y-%m-%d'},\n",
       "    'transaction_id': {'type': 'id', 'subtype': 'integer'},\n",
       "    'session_id': {'type': 'id',\n",
       "     'subtype': 'integer',\n",
       "     'ref': {'table': 'sessions', 'field': 'session_id'}},\n",
       "    'amount': {'type': 'numerical', 'subtype': 'float'},\n",
       "    'cancelled': {'type': 'boolean'}},\n",
       "   'primary_key': 'transaction_id'}}}"
      ]
     },
     "execution_count": 13,
     "metadata": {},
     "output_type": "execute_result"
    }
   ],
   "source": [
    "metadata\n",
    "metadata.to_dict()"
   ]
  },
  {
   "cell_type": "code",
   "execution_count": 14,
   "metadata": {},
   "outputs": [
    {
     "data": {
      "image/svg+xml": "<?xml version=\"1.0\" encoding=\"UTF-8\" standalone=\"no\"?>\n<!DOCTYPE svg PUBLIC \"-//W3C//DTD SVG 1.1//EN\"\n \"http://www.w3.org/Graphics/SVG/1.1/DTD/svg11.dtd\">\n<!-- Generated by graphviz version 2.46.0 (20210118.1747)\n -->\n<!-- Title: Metadata Pages: 1 -->\n<svg width=\"381pt\" height=\"515pt\"\n viewBox=\"0.00 0.00 380.50 515.00\" xmlns=\"http://www.w3.org/2000/svg\" xmlns:xlink=\"http://www.w3.org/1999/xlink\">\n<g id=\"graph0\" class=\"graph\" transform=\"scale(1 1) rotate(0) translate(4 511)\">\n<title>Metadata</title>\n<polygon fill=\"white\" stroke=\"transparent\" points=\"-4,4 -4,-511 376.5,-511 376.5,4 -4,4\"/>\n<!-- users -->\n<g id=\"node1\" class=\"node\">\n<title>users</title>\n<path fill=\"#ffec8b\" stroke=\"black\" d=\"M42.5,-392.5C42.5,-392.5 166.5,-392.5 166.5,-392.5 172.5,-392.5 178.5,-398.5 178.5,-404.5 178.5,-404.5 178.5,-494.5 178.5,-494.5 178.5,-500.5 172.5,-506.5 166.5,-506.5 166.5,-506.5 42.5,-506.5 42.5,-506.5 36.5,-506.5 30.5,-500.5 30.5,-494.5 30.5,-494.5 30.5,-404.5 30.5,-404.5 30.5,-398.5 36.5,-392.5 42.5,-392.5\"/>\n<text text-anchor=\"middle\" x=\"104.5\" y=\"-491.3\" font-family=\"Times New Roman,serif\" font-size=\"14.00\">users</text>\n<polyline fill=\"none\" stroke=\"black\" points=\"30.5,-483.5 178.5,-483.5 \"/>\n<text text-anchor=\"start\" x=\"38.5\" y=\"-468.3\" font-family=\"Times New Roman,serif\" font-size=\"14.00\">user_id : id &#45; integer</text>\n<text text-anchor=\"start\" x=\"38.5\" y=\"-453.3\" font-family=\"Times New Roman,serif\" font-size=\"14.00\">country : categorical</text>\n<text text-anchor=\"start\" x=\"38.5\" y=\"-438.3\" font-family=\"Times New Roman,serif\" font-size=\"14.00\">gender : categorical</text>\n<text text-anchor=\"start\" x=\"38.5\" y=\"-423.3\" font-family=\"Times New Roman,serif\" font-size=\"14.00\">age : numerical &#45; integer</text>\n<polyline fill=\"none\" stroke=\"black\" points=\"30.5,-415.5 178.5,-415.5 \"/>\n<text text-anchor=\"start\" x=\"38.5\" y=\"-400.3\" font-family=\"Times New Roman,serif\" font-size=\"14.00\">Primary key: user_id</text>\n</g>\n<!-- sessions -->\n<g id=\"node2\" class=\"node\">\n<title>sessions</title>\n<path fill=\"#ffec8b\" stroke=\"black\" d=\"M30,-196.5C30,-196.5 179,-196.5 179,-196.5 185,-196.5 191,-202.5 191,-208.5 191,-208.5 191,-328.5 191,-328.5 191,-334.5 185,-340.5 179,-340.5 179,-340.5 30,-340.5 30,-340.5 24,-340.5 18,-334.5 18,-328.5 18,-328.5 18,-208.5 18,-208.5 18,-202.5 24,-196.5 30,-196.5\"/>\n<text text-anchor=\"middle\" x=\"104.5\" y=\"-325.3\" font-family=\"Times New Roman,serif\" font-size=\"14.00\">sessions</text>\n<polyline fill=\"none\" stroke=\"black\" points=\"18,-317.5 191,-317.5 \"/>\n<text text-anchor=\"start\" x=\"26\" y=\"-302.3\" font-family=\"Times New Roman,serif\" font-size=\"14.00\">session_id : id &#45; integer</text>\n<text text-anchor=\"start\" x=\"26\" y=\"-287.3\" font-family=\"Times New Roman,serif\" font-size=\"14.00\">user_id : id &#45; integer</text>\n<text text-anchor=\"start\" x=\"26\" y=\"-272.3\" font-family=\"Times New Roman,serif\" font-size=\"14.00\">device : categorical</text>\n<text text-anchor=\"start\" x=\"26\" y=\"-257.3\" font-family=\"Times New Roman,serif\" font-size=\"14.00\">os : categorical</text>\n<text text-anchor=\"start\" x=\"26\" y=\"-242.3\" font-family=\"Times New Roman,serif\" font-size=\"14.00\">minutes : numerical &#45; integer</text>\n<polyline fill=\"none\" stroke=\"black\" points=\"18,-234.5 191,-234.5 \"/>\n<text text-anchor=\"start\" x=\"26\" y=\"-219.3\" font-family=\"Times New Roman,serif\" font-size=\"14.00\">Primary key: session_id</text>\n<text text-anchor=\"start\" x=\"26\" y=\"-204.3\" font-family=\"Times New Roman,serif\" font-size=\"14.00\">Foreign key (users): user_id</text>\n</g>\n<!-- users&#45;&gt;sessions -->\n<g id=\"edge1\" class=\"edge\">\n<title>users&#45;&gt;sessions</title>\n<path fill=\"none\" stroke=\"black\" d=\"M104.5,-392.35C104.5,-379.15 104.5,-364.82 104.5,-350.77\"/>\n<polygon fill=\"none\" stroke=\"black\" points=\"108,-340.6 104.5,-350.6 101,-340.6 108,-340.6\"/>\n<text text-anchor=\"middle\" x=\"201.5\" y=\"-362.8\" font-family=\"Times New Roman,serif\" font-size=\"14.00\"> &#160;&#160;sessions.user_id &gt; users.user_id</text>\n</g>\n<!-- transactions -->\n<g id=\"node3\" class=\"node\">\n<title>transactions</title>\n<path fill=\"#ffec8b\" stroke=\"black\" d=\"M12,-0.5C12,-0.5 197,-0.5 197,-0.5 203,-0.5 209,-6.5 209,-12.5 209,-12.5 209,-132.5 209,-132.5 209,-138.5 203,-144.5 197,-144.5 197,-144.5 12,-144.5 12,-144.5 6,-144.5 0,-138.5 0,-132.5 0,-132.5 0,-12.5 0,-12.5 0,-6.5 6,-0.5 12,-0.5\"/>\n<text text-anchor=\"middle\" x=\"104.5\" y=\"-129.3\" font-family=\"Times New Roman,serif\" font-size=\"14.00\">transactions</text>\n<polyline fill=\"none\" stroke=\"black\" points=\"0,-121.5 209,-121.5 \"/>\n<text text-anchor=\"start\" x=\"8\" y=\"-106.3\" font-family=\"Times New Roman,serif\" font-size=\"14.00\">timestamp : datetime</text>\n<text text-anchor=\"start\" x=\"8\" y=\"-91.3\" font-family=\"Times New Roman,serif\" font-size=\"14.00\">transaction_id : id &#45; integer</text>\n<text text-anchor=\"start\" x=\"8\" y=\"-76.3\" font-family=\"Times New Roman,serif\" font-size=\"14.00\">session_id : id &#45; integer</text>\n<text text-anchor=\"start\" x=\"8\" y=\"-61.3\" font-family=\"Times New Roman,serif\" font-size=\"14.00\">amount : numerical &#45; float</text>\n<text text-anchor=\"start\" x=\"8\" y=\"-46.3\" font-family=\"Times New Roman,serif\" font-size=\"14.00\">cancelled : boolean</text>\n<polyline fill=\"none\" stroke=\"black\" points=\"0,-38.5 209,-38.5 \"/>\n<text text-anchor=\"start\" x=\"8\" y=\"-23.3\" font-family=\"Times New Roman,serif\" font-size=\"14.00\">Primary key: transaction_id</text>\n<text text-anchor=\"start\" x=\"8\" y=\"-8.3\" font-family=\"Times New Roman,serif\" font-size=\"14.00\">Foreign key (sessions): session_id</text>\n</g>\n<!-- sessions&#45;&gt;transactions -->\n<g id=\"edge2\" class=\"edge\">\n<title>sessions&#45;&gt;transactions</title>\n<path fill=\"none\" stroke=\"black\" d=\"M104.5,-196.36C104.5,-182.92 104.5,-168.76 104.5,-155.03\"/>\n<polygon fill=\"none\" stroke=\"black\" points=\"108,-144.63 104.5,-154.63 101,-144.63 108,-144.63\"/>\n<text text-anchor=\"middle\" x=\"238.5\" y=\"-166.8\" font-family=\"Times New Roman,serif\" font-size=\"14.00\"> &#160;&#160;transactions.session_id &gt; sessions.session_id</text>\n</g>\n</g>\n</svg>\n",
      "text/plain": [
       "<graphviz.graphs.Digraph at 0x2720cb71370>"
      ]
     },
     "execution_count": 14,
     "metadata": {},
     "output_type": "execute_result"
    }
   ],
   "source": [
    "metadata.visualize()"
   ]
  },
  {
   "cell_type": "markdown",
   "metadata": {},
   "source": [
    "### Metadata JSON format"
   ]
  },
  {
   "cell_type": "markdown",
   "metadata": {},
   "source": [
    "The Metadata objects can also be saved as a JSON file and later on loaded from them.\n",
    "\n",
    "In order to save the current metadata as a JSON file, all you need to do is call the to_json method passing the path to the JSON file that you want to create."
   ]
  },
  {
   "cell_type": "code",
   "execution_count": 15,
   "metadata": {},
   "outputs": [],
   "source": [
    "metadata.to_json('demo_metadata.json')"
   ]
  },
  {
   "cell_type": "markdown",
   "metadata": {},
   "source": [
    "You can see that the contents of the created file are very similar to the dict representation of the metadata:"
   ]
  },
  {
   "cell_type": "code",
   "execution_count": 16,
   "metadata": {},
   "outputs": [
    {
     "name": "stdout",
     "output_type": "stream",
     "text": [
      "{\n",
      "    \"tables\": {\n",
      "        \"users\": {\n",
      "            \"fields\": {\n",
      "                \"user_id\": {\n",
      "                    \"type\": \"id\",\n",
      "                    \"subtype\": \"integer\"\n",
      "                },\n",
      "                \"country\": {\n",
      "                    \"type\": \"categorical\"\n",
      "                },\n",
      "                \"gender\": {\n",
      "                    \"type\": \"categorical\"\n",
      "                },\n",
      "                \"age\": {\n",
      "                    \"type\": \"numerical\",\n",
      "                    \"subtype\": \"integer\"\n",
      "                }\n",
      "            },\n",
      "            \"primary_key\": \"user_id\"\n",
      "        },\n",
      "        \"sessions\": {\n",
      "            \"fields\": {\n",
      "                \"session_id\": {\n",
      "                    \"type\": \"id\",\n",
      "                    \"subtype\": \"integer\"\n",
      "                },\n",
      "                \"user_id\": {\n",
      "                    \"type\": \"id\",\n",
      "                    \"subtype\": \"integer\",\n",
      "                    \"ref\": {\n",
      "                        \"table\": \"users\",\n",
      "                        \"field\": \"user_id\"\n",
      "                    }\n",
      "                },\n",
      "                \"device\": {\n",
      "                    \"type\": \"categorical\"\n",
      "                },\n",
      "                \"os\": {\n",
      "                    \"type\": \"categorical\"\n",
      "                },\n",
      "                \"minutes\": {\n",
      "                    \"type\": \"numerical\",\n",
      "                    \"subtype\": \"integer\"\n",
      "                }\n",
      "            },\n",
      "            \"primary_key\": \"session_id\"\n",
      "        },\n",
      "        \"transactions\": {\n",
      "            \"fields\": {\n",
      "                \"timestamp\": {\n",
      "                    \"type\": \"datetime\",\n",
      "                    \"format\": \"%Y-%m-%d\"\n",
      "                },\n",
      "                \"transaction_id\": {\n",
      "                    \"type\": \"id\",\n",
      "                    \"subtype\": \"integer\"\n",
      "                },\n",
      "                \"session_id\": {\n",
      "                    \"type\": \"id\",\n",
      "                    \"subtype\": \"integer\",\n",
      "                    \"ref\": {\n",
      "                        \"table\": \"sessions\",\n",
      "                        \"field\": \"session_id\"\n",
      "                    }\n",
      "                },\n",
      "                \"amount\": {\n",
      "                    \"type\": \"numerical\",\n",
      "                    \"subtype\": \"float\"\n",
      "                },\n",
      "                \"cancelled\": {\n",
      "                    \"type\": \"boolean\"\n",
      "                }\n",
      "            },\n",
      "            \"primary_key\": \"transaction_id\"\n",
      "        }\n",
      "    }\n",
      "}\n"
     ]
    }
   ],
   "source": [
    "with open('demo_metadata.json') as meta_file:\n",
    "    print(meta_file.read())"
   ]
  },
  {
   "cell_type": "markdown",
   "metadata": {},
   "source": [
    "After creating the JSON file, loading it back as a metadata object is as simple as passing it to the Metadata constructor:"
   ]
  },
  {
   "cell_type": "code",
   "execution_count": null,
   "metadata": {},
   "outputs": [],
   "source": [
    "loaded = Metadata('demo_metadata.json')\n",
    "loaded"
   ]
  },
  {
   "cell_type": "markdown",
   "metadata": {},
   "source": [
    "### Fin ###"
   ]
  }
 ],
 "metadata": {
  "kernelspec": {
   "display_name": "Python 3.8.13 ('BulianAI')",
   "language": "python",
   "name": "python3"
  },
  "language_info": {
   "codemirror_mode": {
    "name": "ipython",
    "version": 3
   },
   "file_extension": ".py",
   "mimetype": "text/x-python",
   "name": "python",
   "nbconvert_exporter": "python",
   "pygments_lexer": "ipython3",
   "version": "3.8.13"
  },
  "vscode": {
   "interpreter": {
    "hash": "5bd8aa6735f1437aab03e8ebf738b2f8b20d86a3909cb61e5eeff3a2ad09e1d8"
   }
  }
 },
 "nbformat": 4,
 "nbformat_minor": 2
}
