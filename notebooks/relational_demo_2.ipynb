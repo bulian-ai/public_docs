{
  "cells": [
    {
      "cell_type": "markdown",
      "metadata": {
        "id": "7rUTHjEOfCZW"
      },
      "source": [
        "### Relational Data Demo\n",
        "\n",
        "This is a demo notebook which shows how to make use of HMA1 model to generate synthetic data on multiple table which have a relationship."
      ]
    },
    {
      "cell_type": "markdown",
      "metadata": {
        "id": "Sai0zT3cdoWB"
      },
      "source": [
        "#### Loading Data\n",
        "\n",
        "We load up three different csv files which contain the table data. Then we create a dictionary representation of all the tables which would be used for creating/fitting the model."
      ]
    },
    {
      "cell_type": "markdown",
      "metadata": {},
      "source": [
        "We have three tables here, namely - `application`, `bureau` and `previous_application`. The `application` table is parent to `bureau` and `previous_application` which are related to the main application table using a foreign key `SK_ID_CURR`.\n",
        "\n",
        "For more information about the data you can visit - https://www.kaggle.com/competitions/home-credit-default-risk/data \n"
      ]
    },
    {
      "cell_type": "code",
      "execution_count": 1,
      "metadata": {
        "colab": {
          "base_uri": "https://localhost:8080/",
          "height": 380
        },
        "id": "vS2vNXE7YUd3",
        "outputId": "29bb4234-620a-45b0-ff49-10cd588188af"
      },
      "outputs": [],
      "source": [
        "import pandas as pd\n",
        "\n",
        "application = pd.read_csv(\"application_train.csv\")\n",
        "bureau = pd.read_csv(\"bureau.csv\")\n",
        "previous_application = pd.read_csv(\"previous_application.csv\")\n",
        "\n",
        "tables = {\n",
        "    'application':application,\n",
        "    'bureau': bureau,\n",
        "    'previous_application': previous_application\n",
        "}"
      ]
    },
    {
      "cell_type": "markdown",
      "metadata": {
        "id": "AiA_BnuieAXP"
      },
      "source": [
        "#### Metadata\n",
        "\n",
        "Here we create an instance of metadata and add our three tables to it. The metadata contains important information about table relationships (primary and foreign keys) which would be used to generate synthetic data."
      ]
    },
    {
      "cell_type": "code",
      "execution_count": null,
      "metadata": {
        "colab": {
          "base_uri": "https://localhost:8080/"
        },
        "id": "3o7nSU_JZeNg",
        "outputId": "bd0fe4ba-3f8e-4ba1-ad8a-9fa289023cbb"
      },
      "outputs": [
        {
          "data": {
            "text/plain": [
              "Metadata\n",
              "  root_path: .\n",
              "  tables: ['application', 'previous_application', 'bureau']\n",
              "  relationships:\n",
              "    previous_application.SK_ID_CURR -> application.SK_ID_CURR\n",
              "    bureau.SK_ID_CURR -> application.SK_ID_CURR"
            ]
          },
          "execution_count": 6,
          "metadata": {},
          "output_type": "execute_result"
        }
      ],
      "source": [
        "from bulian.metadata.dataset import Metadata\n",
        "\n",
        "metadata = Metadata()\n",
        "metadata.add_table(name=\"application\", data=application, primary_key='SK_ID_CURR')\n",
        "metadata.add_table(name=\"previous_application\", data=previous_application, primary_key='SK_ID_PREV', foreign_key='SK_ID_CURR', parent='application')\n",
        "metadata.add_table(name=\"bureau\", data=bureau, primary_key='SK_ID_BUREAU', foreign_key='SK_ID_CURR', parent='application')\n",
        "metadata"
      ]
    },
    {
      "cell_type": "markdown",
      "metadata": {
        "id": "NMgCTkMeedXi"
      },
      "source": [
        "#### HMA1 Model\n",
        "\n",
        "The bulian.relational.HMA1 class implements a Hierarchical Modeling Algorithm which is an algorithm that allows to recursively walk through a relational dataset and applies tabular models across all the tables in a way that lets the models learn how all the fields from all the tables are related."
      ]
    },
    {
      "cell_type": "code",
      "execution_count": null,
      "metadata": {
        "id": "dzzsX7nuZf9l"
      },
      "outputs": [],
      "source": [
        "from bulian.relational import HMA1\n",
        "\n",
        "model = HMA1(metadata)\n",
        "model.fit(tables)"
      ]
    },
    {
      "cell_type": "markdown",
      "metadata": {
        "id": "lJT0lPL_fXBJ"
      },
      "source": [
        "Now we can sample rows from the above fitted model using the `sample` function."
      ]
    },
    {
      "cell_type": "code",
      "execution_count": null,
      "metadata": {
        "id": "JS-90fNJZiFu"
      },
      "outputs": [],
      "source": [
        "new_data = model.sample(num_rows=100,)"
      ]
    },
    {
      "cell_type": "markdown",
      "metadata": {
        "id": "Sy2rYgx6fsIC"
      },
      "source": [
        "#### Generate Report\n",
        "\n",
        "After we have sampled new synthetic data, a data quality report can be generated using the **get_multi_table_report** api. The report can be viewed as a dashboard or a Jupyter output."
      ]
    },
    {
      "cell_type": "code",
      "execution_count": null,
      "metadata": {
        "id": "Hr94rfGpf-p6"
      },
      "outputs": [],
      "source": [
        "from bulian.metrics.reports import get_multi_table_report\n",
        "get_multi_table_report(tables, new_data, metadata, show_dashboard=True)"
      ]
    }
  ],
  "metadata": {
    "accelerator": "GPU",
    "colab": {
      "name": "Untitled1.ipynb",
      "provenance": []
    },
    "gpuClass": "standard",
    "kernelspec": {
      "display_name": "Python 3.8.10 ('venv': venv)",
      "language": "python",
      "name": "python3"
    },
    "language_info": {
      "codemirror_mode": {
        "name": "ipython",
        "version": 3
      },
      "file_extension": ".py",
      "mimetype": "text/x-python",
      "name": "python",
      "nbconvert_exporter": "python",
      "pygments_lexer": "ipython3",
      "version": "3.8.10"
    },
    "vscode": {
      "interpreter": {
        "hash": "4b1941d862017c0e671b65735c9f23d80bfba43c94220284ce44ec263442c797"
      }
    }
  },
  "nbformat": 4,
  "nbformat_minor": 0
}
